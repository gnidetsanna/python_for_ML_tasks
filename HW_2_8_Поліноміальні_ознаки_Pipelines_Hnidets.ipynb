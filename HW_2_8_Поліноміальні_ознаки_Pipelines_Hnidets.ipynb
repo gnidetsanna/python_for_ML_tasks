{
  "cells": [
    {
      "cell_type": "markdown",
      "metadata": {
        "id": "view-in-github",
        "colab_type": "text"
      },
      "source": [
        "<a href=\"https://colab.research.google.com/github/gnidetsanna/python_for_ML_tasks/blob/main/HW_2_8_%D0%9F%D0%BE%D0%BB%D1%96%D0%BD%D0%BE%D0%BC%D1%96%D0%B0%D0%BB%D1%8C%D0%BD%D1%96_%D0%BE%D0%B7%D0%BD%D0%B0%D0%BA%D0%B8_Pipelines_Hnidets.ipynb\" target=\"_parent\"><img src=\"https://colab.research.google.com/assets/colab-badge.svg\" alt=\"Open In Colab\"/></a>"
      ]
    },
    {
      "cell_type": "markdown",
      "metadata": {
        "id": "gJ2A6t3mdEed"
      },
      "source": [
        "###1###\n",
        "В цьому домашньому завданні ми проведемо додаткові експерименти для рішення задачі бінарної класифікації і створимо ваш новий submission на змагання на Kaggle.\n",
        "\n",
        "-----------\n",
        "\n",
        "\n",
        "**Завдання 0**. Завантажте дані `train.csv`, `test.csv`, `sample_submission.csv` зі змагання на Kaggle [\"Bank Customer Churn Prediction (DLU Course)\"](https://www.kaggle.com/t/7c080c5d8ec64364a93cf4e8f880b6a0). Для завантаження потрібно долучитись до змагання (натиснути кнопку \"Join\").\n",
        "\n",
        "**Завдання 1**. **Збираємо весь код з попереднього ДЗ в одному місці.** В лекційному ноутбуці `Логістична регресія з ScikitLearn. Повна ML задача.ipynb` ми познайомились з поняттям пайплайнів, а також я показала, як компактно виглядає рішення МЛ задачі, якщо ми зберемо весь код разом.\n",
        "\n",
        "Оскільки ми далі будемо робити експерименти, які включають ті самі етапи попередньої обробки, але інше моделювання - буде зручно мати весь код компактно і під рукою. Тому зараз ми займемось збором коду до купи :) Після цього завдання для подальших експериментів ви можете перенести частини розвʼязку взагалі в окремий `.py` файл, аби було зручно імпортувати функції.\n",
        "\n",
        "Зі свого рішення в попередньому домашньому завданні (`Логістична регресія з scikit learn.ipynb`) зберіть усі кроки розвʼязку задачі разом з використанням `sklearn.Pipeline` за прикладом з лекції.\n",
        "\n",
        "Ваш код нижче має містити\n",
        "1. Читання даних з файлу (поза пайплайном).\n",
        "2. Розбиття на тренувальний і валідаційний набори, де валідаційний містить 20% даних (поза пайплайном).\n",
        "3. Виділення категоріальних і числових колонок (поза пайплайном).\n",
        "4. Підготовку категоріальних і числових колонок (частина пайплайну). В прикладі в лекції ми оформлювали обробку числових і категоріальних колонок в окремі трансформери `numeric_transformer`, `categorical_cols`. Рекоемндую зробити саме так, так потім зручніше вносити зміни :)\n",
        "5. Тренування лог регресії (частина пайплайну).\n",
        "6. Запуск пайплайну на тренування на трен. даних (поза пайплайном).\n",
        "7. Запуск пайплайну на передбачення на трен і вал. даних і вимір метрик якості ROC-AUC + вивдення Confusion Matrix (поза пайплайном).\n",
        "8. Збереження моделі в формат joblib (поза пайплайном).\n",
        "\n",
        "Ви це все вже зробили в попереднтьому ДЗ! Тож, тут просто заадча все зібрати разом.\n",
        "\n",
        "Нижче я додала підказки, що покроково ви маєте зробити. Якщо ви почуваєтесь впевнено, можете видалити ці підказки і реалізувати все самостійно, або ж - просто заповнити пропуски.\n",
        "\n",
        "Завдання оцінюється в 10 балів. Головний результат - аби код в фіналі був робочий. Бо за не робочий нам гроші ніхто не заплатить :)"
      ]
    },
    {
      "cell_type": "code",
      "execution_count": 58,
      "metadata": {
        "colab": {
          "base_uri": "https://localhost:8080/"
        },
        "id": "DhG5qG1cimsY",
        "outputId": "2ce6408a-9128-4568-a167-d9caece4cef1"
      },
      "outputs": [
        {
          "output_type": "stream",
          "name": "stdout",
          "text": [
            "Drive already mounted at /content/drive; to attempt to forcibly remount, call drive.mount(\"/content/drive\", force_remount=True).\n"
          ]
        }
      ],
      "source": [
        "from google.colab import drive\n",
        "drive.mount('/content/drive')"
      ]
    },
    {
      "cell_type": "code",
      "execution_count": 112,
      "metadata": {
        "id": "HMD4UKODifoT"
      },
      "outputs": [],
      "source": [
        "!pip install opendatasets --upgrade --quiet\n",
        "!pip install pyarrow --quiet\n",
        "\n",
        "import opendatasets as od\n",
        "import os\n",
        "import pandas as pd\n",
        "import numpy as np\n",
        "from sklearn.metrics import mean_squared_error\n",
        "from sklearn.model_selection import train_test_split\n",
        "from sklearn.preprocessing import MinMaxScaler, OneHotEncoder\n",
        "from sklearn.linear_model import LogisticRegression, LinearRegression\n",
        "from sklearn.compose import ColumnTransformer\n",
        "from sklearn.metrics import accuracy_score, confusion_matrix, f1_score, roc_curve, auc, precision_score, recall_score, roc_auc_score, r2_score\n",
        "from sklearn.metrics import classification_report\n",
        "from sklearn.pipeline import Pipeline\n",
        "import matplotlib.pyplot as plt\n",
        "import seaborn as sns\n",
        "import joblib"
      ]
    },
    {
      "cell_type": "code",
      "execution_count": 3,
      "metadata": {
        "colab": {
          "base_uri": "https://localhost:8080/"
        },
        "id": "MEOUXUkNiC4f",
        "outputId": "464ade2e-d51b-406c-f509-84518452706f"
      },
      "outputs": [
        {
          "output_type": "stream",
          "name": "stdout",
          "text": [
            "Please provide your Kaggle credentials to download this dataset. Learn more: http://bit.ly/kaggle-creds\n",
            "Your Kaggle username: gnidetsanna\n",
            "Your Kaggle Key: ··········\n",
            "Downloading bank-customer-churn-prediction-dlu.zip to ./bank-customer-churn-prediction-dlu\n"
          ]
        },
        {
          "output_type": "stream",
          "name": "stderr",
          "text": [
            "100%|██████████| 637k/637k [00:00<00:00, 1.17MB/s]"
          ]
        },
        {
          "output_type": "stream",
          "name": "stdout",
          "text": [
            "\n",
            "Extracting archive ./bank-customer-churn-prediction-dlu/bank-customer-churn-prediction-dlu.zip to ./bank-customer-churn-prediction-dlu\n"
          ]
        },
        {
          "output_type": "stream",
          "name": "stderr",
          "text": [
            "\n"
          ]
        }
      ],
      "source": [
        "dataset_url = 'https://www.kaggle.com/competitions/bank-customer-churn-prediction-dlu'\n",
        "od.download(dataset_url)\n",
        "data_dir = './bank-customer-churn-prediction-dlu'\n",
        "os.listdir(data_dir)\n",
        "train_csv = data_dir + '/train.csv'"
      ]
    },
    {
      "cell_type": "code",
      "execution_count": 4,
      "metadata": {
        "id": "RIBk0peqJ67Z"
      },
      "outputs": [],
      "source": [
        "raw_df = pd.read_csv(train_csv, index_col=0)\n",
        "updated_df = raw_df.drop(columns=['CustomerId', 'Surname'])\n",
        "\n",
        "train_df, val_df = train_test_split(updated_df, test_size=0.20, random_state=42, stratify=updated_df['Exited'])\n",
        "\n",
        "# Створюємо трен. і вал. набори\n",
        "input_cols = list(updated_df.columns)[1:-1]\n",
        "target_col = 'Exited'\n",
        "train_inputs, train_targets = train_df[input_cols], train_df[target_col]\n",
        "val_inputs, val_targets = val_df[input_cols], val_df[target_col]\n",
        "\n",
        "# # Виявляємо числові і категоріальні колонки\n",
        "numeric_cols = train_inputs.select_dtypes(include=np.number).columns.tolist()[:-1]\n",
        "categorical_cols = train_inputs.select_dtypes(include='object').columns.tolist()\n"
      ]
    },
    {
      "cell_type": "code",
      "execution_count": 5,
      "metadata": {
        "id": "kIo_dBQ9Nx3h",
        "colab": {
          "base_uri": "https://localhost:8080/",
          "height": 191
        },
        "outputId": "f6ab30a5-b0b4-4a4e-cac9-f24ee6417919"
      },
      "outputs": [
        {
          "output_type": "execute_result",
          "data": {
            "text/plain": [
              "Pipeline(steps=[('preprocessor',\n",
              "                 ColumnTransformer(transformers=[('num',\n",
              "                                                  Pipeline(steps=[('scaler',\n",
              "                                                                   MinMaxScaler())]),\n",
              "                                                  ['Age', 'Tenure', 'Balance',\n",
              "                                                   'NumOfProducts', 'HasCrCard',\n",
              "                                                   'IsActiveMember']),\n",
              "                                                 ('cat',\n",
              "                                                  Pipeline(steps=[('onehot',\n",
              "                                                                   OneHotEncoder(drop='if_binary',\n",
              "                                                                                 handle_unknown='ignore',\n",
              "                                                                                 sparse_output=False))]),\n",
              "                                                  ['Geography', 'Gender'])])),\n",
              "                ('classifier', LogisticRegression(solver='liblinear'))])"
            ],
            "text/html": [
              "<style>#sk-container-id-1 {color: black;background-color: white;}#sk-container-id-1 pre{padding: 0;}#sk-container-id-1 div.sk-toggleable {background-color: white;}#sk-container-id-1 label.sk-toggleable__label {cursor: pointer;display: block;width: 100%;margin-bottom: 0;padding: 0.3em;box-sizing: border-box;text-align: center;}#sk-container-id-1 label.sk-toggleable__label-arrow:before {content: \"▸\";float: left;margin-right: 0.25em;color: #696969;}#sk-container-id-1 label.sk-toggleable__label-arrow:hover:before {color: black;}#sk-container-id-1 div.sk-estimator:hover label.sk-toggleable__label-arrow:before {color: black;}#sk-container-id-1 div.sk-toggleable__content {max-height: 0;max-width: 0;overflow: hidden;text-align: left;background-color: #f0f8ff;}#sk-container-id-1 div.sk-toggleable__content pre {margin: 0.2em;color: black;border-radius: 0.25em;background-color: #f0f8ff;}#sk-container-id-1 input.sk-toggleable__control:checked~div.sk-toggleable__content {max-height: 200px;max-width: 100%;overflow: auto;}#sk-container-id-1 input.sk-toggleable__control:checked~label.sk-toggleable__label-arrow:before {content: \"▾\";}#sk-container-id-1 div.sk-estimator input.sk-toggleable__control:checked~label.sk-toggleable__label {background-color: #d4ebff;}#sk-container-id-1 div.sk-label input.sk-toggleable__control:checked~label.sk-toggleable__label {background-color: #d4ebff;}#sk-container-id-1 input.sk-hidden--visually {border: 0;clip: rect(1px 1px 1px 1px);clip: rect(1px, 1px, 1px, 1px);height: 1px;margin: -1px;overflow: hidden;padding: 0;position: absolute;width: 1px;}#sk-container-id-1 div.sk-estimator {font-family: monospace;background-color: #f0f8ff;border: 1px dotted black;border-radius: 0.25em;box-sizing: border-box;margin-bottom: 0.5em;}#sk-container-id-1 div.sk-estimator:hover {background-color: #d4ebff;}#sk-container-id-1 div.sk-parallel-item::after {content: \"\";width: 100%;border-bottom: 1px solid gray;flex-grow: 1;}#sk-container-id-1 div.sk-label:hover label.sk-toggleable__label {background-color: #d4ebff;}#sk-container-id-1 div.sk-serial::before {content: \"\";position: absolute;border-left: 1px solid gray;box-sizing: border-box;top: 0;bottom: 0;left: 50%;z-index: 0;}#sk-container-id-1 div.sk-serial {display: flex;flex-direction: column;align-items: center;background-color: white;padding-right: 0.2em;padding-left: 0.2em;position: relative;}#sk-container-id-1 div.sk-item {position: relative;z-index: 1;}#sk-container-id-1 div.sk-parallel {display: flex;align-items: stretch;justify-content: center;background-color: white;position: relative;}#sk-container-id-1 div.sk-item::before, #sk-container-id-1 div.sk-parallel-item::before {content: \"\";position: absolute;border-left: 1px solid gray;box-sizing: border-box;top: 0;bottom: 0;left: 50%;z-index: -1;}#sk-container-id-1 div.sk-parallel-item {display: flex;flex-direction: column;z-index: 1;position: relative;background-color: white;}#sk-container-id-1 div.sk-parallel-item:first-child::after {align-self: flex-end;width: 50%;}#sk-container-id-1 div.sk-parallel-item:last-child::after {align-self: flex-start;width: 50%;}#sk-container-id-1 div.sk-parallel-item:only-child::after {width: 0;}#sk-container-id-1 div.sk-dashed-wrapped {border: 1px dashed gray;margin: 0 0.4em 0.5em 0.4em;box-sizing: border-box;padding-bottom: 0.4em;background-color: white;}#sk-container-id-1 div.sk-label label {font-family: monospace;font-weight: bold;display: inline-block;line-height: 1.2em;}#sk-container-id-1 div.sk-label-container {text-align: center;}#sk-container-id-1 div.sk-container {/* jupyter's `normalize.less` sets `[hidden] { display: none; }` but bootstrap.min.css set `[hidden] { display: none !important; }` so we also need the `!important` here to be able to override the default hidden behavior on the sphinx rendered scikit-learn.org. See: https://github.com/scikit-learn/scikit-learn/issues/21755 */display: inline-block !important;position: relative;}#sk-container-id-1 div.sk-text-repr-fallback {display: none;}</style><div id=\"sk-container-id-1\" class=\"sk-top-container\"><div class=\"sk-text-repr-fallback\"><pre>Pipeline(steps=[(&#x27;preprocessor&#x27;,\n",
              "                 ColumnTransformer(transformers=[(&#x27;num&#x27;,\n",
              "                                                  Pipeline(steps=[(&#x27;scaler&#x27;,\n",
              "                                                                   MinMaxScaler())]),\n",
              "                                                  [&#x27;Age&#x27;, &#x27;Tenure&#x27;, &#x27;Balance&#x27;,\n",
              "                                                   &#x27;NumOfProducts&#x27;, &#x27;HasCrCard&#x27;,\n",
              "                                                   &#x27;IsActiveMember&#x27;]),\n",
              "                                                 (&#x27;cat&#x27;,\n",
              "                                                  Pipeline(steps=[(&#x27;onehot&#x27;,\n",
              "                                                                   OneHotEncoder(drop=&#x27;if_binary&#x27;,\n",
              "                                                                                 handle_unknown=&#x27;ignore&#x27;,\n",
              "                                                                                 sparse_output=False))]),\n",
              "                                                  [&#x27;Geography&#x27;, &#x27;Gender&#x27;])])),\n",
              "                (&#x27;classifier&#x27;, LogisticRegression(solver=&#x27;liblinear&#x27;))])</pre><b>In a Jupyter environment, please rerun this cell to show the HTML representation or trust the notebook. <br />On GitHub, the HTML representation is unable to render, please try loading this page with nbviewer.org.</b></div><div class=\"sk-container\" hidden><div class=\"sk-item sk-dashed-wrapped\"><div class=\"sk-label-container\"><div class=\"sk-label sk-toggleable\"><input class=\"sk-toggleable__control sk-hidden--visually\" id=\"sk-estimator-id-1\" type=\"checkbox\" ><label for=\"sk-estimator-id-1\" class=\"sk-toggleable__label sk-toggleable__label-arrow\">Pipeline</label><div class=\"sk-toggleable__content\"><pre>Pipeline(steps=[(&#x27;preprocessor&#x27;,\n",
              "                 ColumnTransformer(transformers=[(&#x27;num&#x27;,\n",
              "                                                  Pipeline(steps=[(&#x27;scaler&#x27;,\n",
              "                                                                   MinMaxScaler())]),\n",
              "                                                  [&#x27;Age&#x27;, &#x27;Tenure&#x27;, &#x27;Balance&#x27;,\n",
              "                                                   &#x27;NumOfProducts&#x27;, &#x27;HasCrCard&#x27;,\n",
              "                                                   &#x27;IsActiveMember&#x27;]),\n",
              "                                                 (&#x27;cat&#x27;,\n",
              "                                                  Pipeline(steps=[(&#x27;onehot&#x27;,\n",
              "                                                                   OneHotEncoder(drop=&#x27;if_binary&#x27;,\n",
              "                                                                                 handle_unknown=&#x27;ignore&#x27;,\n",
              "                                                                                 sparse_output=False))]),\n",
              "                                                  [&#x27;Geography&#x27;, &#x27;Gender&#x27;])])),\n",
              "                (&#x27;classifier&#x27;, LogisticRegression(solver=&#x27;liblinear&#x27;))])</pre></div></div></div><div class=\"sk-serial\"><div class=\"sk-item sk-dashed-wrapped\"><div class=\"sk-label-container\"><div class=\"sk-label sk-toggleable\"><input class=\"sk-toggleable__control sk-hidden--visually\" id=\"sk-estimator-id-2\" type=\"checkbox\" ><label for=\"sk-estimator-id-2\" class=\"sk-toggleable__label sk-toggleable__label-arrow\">preprocessor: ColumnTransformer</label><div class=\"sk-toggleable__content\"><pre>ColumnTransformer(transformers=[(&#x27;num&#x27;,\n",
              "                                 Pipeline(steps=[(&#x27;scaler&#x27;, MinMaxScaler())]),\n",
              "                                 [&#x27;Age&#x27;, &#x27;Tenure&#x27;, &#x27;Balance&#x27;, &#x27;NumOfProducts&#x27;,\n",
              "                                  &#x27;HasCrCard&#x27;, &#x27;IsActiveMember&#x27;]),\n",
              "                                (&#x27;cat&#x27;,\n",
              "                                 Pipeline(steps=[(&#x27;onehot&#x27;,\n",
              "                                                  OneHotEncoder(drop=&#x27;if_binary&#x27;,\n",
              "                                                                handle_unknown=&#x27;ignore&#x27;,\n",
              "                                                                sparse_output=False))]),\n",
              "                                 [&#x27;Geography&#x27;, &#x27;Gender&#x27;])])</pre></div></div></div><div class=\"sk-parallel\"><div class=\"sk-parallel-item\"><div class=\"sk-item\"><div class=\"sk-label-container\"><div class=\"sk-label sk-toggleable\"><input class=\"sk-toggleable__control sk-hidden--visually\" id=\"sk-estimator-id-3\" type=\"checkbox\" ><label for=\"sk-estimator-id-3\" class=\"sk-toggleable__label sk-toggleable__label-arrow\">num</label><div class=\"sk-toggleable__content\"><pre>[&#x27;Age&#x27;, &#x27;Tenure&#x27;, &#x27;Balance&#x27;, &#x27;NumOfProducts&#x27;, &#x27;HasCrCard&#x27;, &#x27;IsActiveMember&#x27;]</pre></div></div></div><div class=\"sk-serial\"><div class=\"sk-item\"><div class=\"sk-serial\"><div class=\"sk-item\"><div class=\"sk-estimator sk-toggleable\"><input class=\"sk-toggleable__control sk-hidden--visually\" id=\"sk-estimator-id-4\" type=\"checkbox\" ><label for=\"sk-estimator-id-4\" class=\"sk-toggleable__label sk-toggleable__label-arrow\">MinMaxScaler</label><div class=\"sk-toggleable__content\"><pre>MinMaxScaler()</pre></div></div></div></div></div></div></div></div><div class=\"sk-parallel-item\"><div class=\"sk-item\"><div class=\"sk-label-container\"><div class=\"sk-label sk-toggleable\"><input class=\"sk-toggleable__control sk-hidden--visually\" id=\"sk-estimator-id-5\" type=\"checkbox\" ><label for=\"sk-estimator-id-5\" class=\"sk-toggleable__label sk-toggleable__label-arrow\">cat</label><div class=\"sk-toggleable__content\"><pre>[&#x27;Geography&#x27;, &#x27;Gender&#x27;]</pre></div></div></div><div class=\"sk-serial\"><div class=\"sk-item\"><div class=\"sk-serial\"><div class=\"sk-item\"><div class=\"sk-estimator sk-toggleable\"><input class=\"sk-toggleable__control sk-hidden--visually\" id=\"sk-estimator-id-6\" type=\"checkbox\" ><label for=\"sk-estimator-id-6\" class=\"sk-toggleable__label sk-toggleable__label-arrow\">OneHotEncoder</label><div class=\"sk-toggleable__content\"><pre>OneHotEncoder(drop=&#x27;if_binary&#x27;, handle_unknown=&#x27;ignore&#x27;, sparse_output=False)</pre></div></div></div></div></div></div></div></div></div></div><div class=\"sk-item\"><div class=\"sk-estimator sk-toggleable\"><input class=\"sk-toggleable__control sk-hidden--visually\" id=\"sk-estimator-id-7\" type=\"checkbox\" ><label for=\"sk-estimator-id-7\" class=\"sk-toggleable__label sk-toggleable__label-arrow\">LogisticRegression</label><div class=\"sk-toggleable__content\"><pre>LogisticRegression(solver=&#x27;liblinear&#x27;)</pre></div></div></div></div></div></div></div>"
            ]
          },
          "metadata": {},
          "execution_count": 5
        }
      ],
      "source": [
        "numeric_transformer = Pipeline(steps=[\n",
        "    ('scaler', MinMaxScaler())\n",
        "])\n",
        "\n",
        "categorical_transformer = Pipeline(steps=[\n",
        "    ('onehot', OneHotEncoder(drop='if_binary', sparse_output=False, handle_unknown='ignore'))\n",
        "])\n",
        "\n",
        "preprocessor = ColumnTransformer(\n",
        "    transformers=[\n",
        "        ('num', numeric_transformer, numeric_cols),\n",
        "        ('cat', categorical_transformer, categorical_cols)\n",
        "    ])\n",
        "\n",
        "model_pipeline = Pipeline(steps=[\n",
        "    ('preprocessor', preprocessor),\n",
        "    ('classifier', LogisticRegression(solver='liblinear'))\n",
        "])\n",
        "\n",
        "model_pipeline.fit(train_inputs, train_targets)"
      ]
    },
    {
      "cell_type": "code",
      "execution_count": 31,
      "metadata": {
        "id": "raleTYSFWVey"
      },
      "outputs": [],
      "source": [
        "def predict_and_plot(model_pipeline, inputs, targets, name=''):\n",
        "    preds = model_pipeline.predict(inputs)\n",
        "    accuracy = accuracy_score(targets, preds)\n",
        "\n",
        "    preds_proba = model_pipeline.predict_proba(inputs)\n",
        "    roc_auc_1 = roc_auc_score(targets, preds_proba[:, 1])\n",
        "\n",
        "    print(f\"Оцінка точності {name} dataset: {accuracy:.2f}\")\n",
        "    print(f\"Area under ROC score on {name} dataset: {roc_auc_1:.2f}\")\n",
        "    f1 = f1_score(targets, preds, pos_label=1)\n",
        "    print(f\"F1 score = {f1}\")\n",
        "    RMSE = mean_squared_error(targets, preds, squared=False)\n",
        "    print(f\"RMSE = {RMSE}\")\n",
        "    confusion_matrix_ = confusion_matrix(targets, preds, normalize='true')\n",
        "    plt.figure()\n",
        "    sns.heatmap(confusion_matrix_, annot=True, cmap='Blues')\n",
        "    plt.xlabel('Prediction')\n",
        "    plt.ylabel('Target')\n",
        "    plt.title('{} Confusion Matrix'.format(name))\n",
        "    plt.show()\n",
        "    return preds"
      ]
    },
    {
      "cell_type": "code",
      "execution_count": 32,
      "metadata": {
        "id": "mM16PuTTaK4t",
        "colab": {
          "base_uri": "https://localhost:8080/",
          "height": 1000
        },
        "outputId": "bd80477c-2221-48ea-e235-f6b5e0821ec5"
      },
      "outputs": [
        {
          "output_type": "stream",
          "name": "stdout",
          "text": [
            "Оцінка точності Training dataset: 0.87\n",
            "Area under ROC score on Training dataset: 0.88\n",
            "F1 score = 0.6301303718010622\n",
            "RMSE = 0.3573047252229764\n"
          ]
        },
        {
          "output_type": "display_data",
          "data": {
            "text/plain": [
              "<Figure size 640x480 with 2 Axes>"
            ],
            "image/png": "[encoded data removed]"
          },
          "metadata": {}
        },
        {
          "output_type": "stream",
          "name": "stdout",
          "text": [
            "Оцінка точності Validation dataset: 0.87\n",
            "Area under ROC score on Validation dataset: 0.88\n",
            "F1 score = 0.638888888888889\n",
            "RMSE = 0.36055512754639896\n"
          ]
        },
        {
          "output_type": "display_data",
          "data": {
            "text/plain": [
              "<Figure size 640x480 with 2 Axes>"
            ],
            "image/png": "[encoded data removed]"
          },
          "metadata": {}
        }
      ],
      "source": [
        "train_preds = predict_and_plot(model_pipeline, train_inputs, train_targets, 'Training')\n",
        "val_preds = predict_and_plot(model_pipeline, val_inputs, val_targets, 'Validation')"
      ]
    },
    {
      "cell_type": "code",
      "execution_count": 8,
      "metadata": {
        "id": "UuNNcMepaE-U",
        "colab": {
          "base_uri": "https://localhost:8080/"
        },
        "outputId": "d5868640-82f7-4695-b754-23241b4da720"
      },
      "outputs": [
        {
          "output_type": "execute_result",
          "data": {
            "text/plain": [
              "['exit_bank_pipeline.joblib']"
            ]
          },
          "metadata": {},
          "execution_count": 8
        }
      ],
      "source": [
        "joblib.dump(model_pipeline, 'exit_bank_pipeline.joblib')"
      ]
    },
    {
      "cell_type": "code",
      "execution_count": 21,
      "metadata": {
        "id": "lVEWvYLFL4q2"
      },
      "outputs": [],
      "source": [
        "test_csv = data_dir + '/test.csv'\n",
        "test_raw_df = pd.read_csv(test_csv)\n",
        "\n",
        "X_test = test_raw_df.drop(columns=['CustomerId', 'Surname'])  # Припускаємо, що тестові дані мають ті ж самі стовпці, крім 'Exited'\n",
        "test_predictions = model_pipeline.predict_proba(X_test)[:,1]\n",
        "new_df = pd.DataFrame({'id': X_test['id'], 'Exited': test_predictions})\n",
        "sub_csv = data_dir + '/sample_submission.csv'\n",
        "sub_csv = pd.read_csv(sub_csv)\n",
        "\n",
        "for idx in new_df.index:\n",
        "    if sub_csv.at[idx, 'id'] == new_df.at[idx, 'id']:\n",
        "      sub_csv.at[idx, 'Exited'] = new_df.at[idx, 'Exited']\n",
        "    else:\n",
        "      continue\n",
        "sub_csv.to_csv('sub.csv', index=False)"
      ]
    },
    {
      "cell_type": "markdown",
      "metadata": {
        "id": "PXrc2NCa5lAK"
      },
      "source": [
        "###Завдання 2###\n",
        " Такс, у нас з вами є вже готовий пайплайн. Давайте проведемо нові експерименти.\n",
        "\n",
        "  Додайте в попередню обробку числових колонок генерацію polinomal features до степені 2 включно. Для цього створіть новий препроцесор і створіть новий пайплайн.\n",
        "\n",
        "  Запустіть пайплайн на тренування і виведіть метрики для тренувального і валідаційного набору. Напишіть, як вам модель? Чи спостерігається в цій моделі overfit чи underfit? Чи ця модель добре генералізує?"
      ]
    },
    {
      "cell_type": "code",
      "execution_count": 33,
      "metadata": {
        "id": "TjcmWMTOOjJ1",
        "colab": {
          "base_uri": "https://localhost:8080/",
          "height": 225
        },
        "outputId": "b0d7eda6-16ff-43ba-83f7-ec1947b098f5"
      },
      "outputs": [
        {
          "output_type": "execute_result",
          "data": {
            "text/plain": [
              "Pipeline(steps=[('preprocessor',\n",
              "                 ColumnTransformer(transformers=[('num',\n",
              "                                                  Pipeline(steps=[('scaler',\n",
              "                                                                   MinMaxScaler()),\n",
              "                                                                  ('poly',\n",
              "                                                                   PolynomialFeatures(include_bias=False))]),\n",
              "                                                  ['Age', 'Tenure', 'Balance',\n",
              "                                                   'NumOfProducts', 'HasCrCard',\n",
              "                                                   'IsActiveMember']),\n",
              "                                                 ('cat',\n",
              "                                                  Pipeline(steps=[('onehot',\n",
              "                                                                   OneHotEncoder(drop='if_binary',\n",
              "                                                                                 handle_unknown='ignore',\n",
              "                                                                                 sparse_output=False))]),\n",
              "                                                  ['Geography', 'Gender'])])),\n",
              "                ('classifier', LogisticRegression(solver='liblinear'))])"
            ],
            "text/html": [
              "<style>#sk-container-id-3 {color: black;background-color: white;}#sk-container-id-3 pre{padding: 0;}#sk-container-id-3 div.sk-toggleable {background-color: white;}#sk-container-id-3 label.sk-toggleable__label {cursor: pointer;display: block;width: 100%;margin-bottom: 0;padding: 0.3em;box-sizing: border-box;text-align: center;}#sk-container-id-3 label.sk-toggleable__label-arrow:before {content: \"▸\";float: left;margin-right: 0.25em;color: #696969;}#sk-container-id-3 label.sk-toggleable__label-arrow:hover:before {color: black;}#sk-container-id-3 div.sk-estimator:hover label.sk-toggleable__label-arrow:before {color: black;}#sk-container-id-3 div.sk-toggleable__content {max-height: 0;max-width: 0;overflow: hidden;text-align: left;background-color: #f0f8ff;}#sk-container-id-3 div.sk-toggleable__content pre {margin: 0.2em;color: black;border-radius: 0.25em;background-color: #f0f8ff;}#sk-container-id-3 input.sk-toggleable__control:checked~div.sk-toggleable__content {max-height: 200px;max-width: 100%;overflow: auto;}#sk-container-id-3 input.sk-toggleable__control:checked~label.sk-toggleable__label-arrow:before {content: \"▾\";}#sk-container-id-3 div.sk-estimator input.sk-toggleable__control:checked~label.sk-toggleable__label {background-color: #d4ebff;}#sk-container-id-3 div.sk-label input.sk-toggleable__control:checked~label.sk-toggleable__label {background-color: #d4ebff;}#sk-container-id-3 input.sk-hidden--visually {border: 0;clip: rect(1px 1px 1px 1px);clip: rect(1px, 1px, 1px, 1px);height: 1px;margin: -1px;overflow: hidden;padding: 0;position: absolute;width: 1px;}#sk-container-id-3 div.sk-estimator {font-family: monospace;background-color: #f0f8ff;border: 1px dotted black;border-radius: 0.25em;box-sizing: border-box;margin-bottom: 0.5em;}#sk-container-id-3 div.sk-estimator:hover {background-color: #d4ebff;}#sk-container-id-3 div.sk-parallel-item::after {content: \"\";width: 100%;border-bottom: 1px solid gray;flex-grow: 1;}#sk-container-id-3 div.sk-label:hover label.sk-toggleable__label {background-color: #d4ebff;}#sk-container-id-3 div.sk-serial::before {content: \"\";position: absolute;border-left: 1px solid gray;box-sizing: border-box;top: 0;bottom: 0;left: 50%;z-index: 0;}#sk-container-id-3 div.sk-serial {display: flex;flex-direction: column;align-items: center;background-color: white;padding-right: 0.2em;padding-left: 0.2em;position: relative;}#sk-container-id-3 div.sk-item {position: relative;z-index: 1;}#sk-container-id-3 div.sk-parallel {display: flex;align-items: stretch;justify-content: center;background-color: white;position: relative;}#sk-container-id-3 div.sk-item::before, #sk-container-id-3 div.sk-parallel-item::before {content: \"\";position: absolute;border-left: 1px solid gray;box-sizing: border-box;top: 0;bottom: 0;left: 50%;z-index: -1;}#sk-container-id-3 div.sk-parallel-item {display: flex;flex-direction: column;z-index: 1;position: relative;background-color: white;}#sk-container-id-3 div.sk-parallel-item:first-child::after {align-self: flex-end;width: 50%;}#sk-container-id-3 div.sk-parallel-item:last-child::after {align-self: flex-start;width: 50%;}#sk-container-id-3 div.sk-parallel-item:only-child::after {width: 0;}#sk-container-id-3 div.sk-dashed-wrapped {border: 1px dashed gray;margin: 0 0.4em 0.5em 0.4em;box-sizing: border-box;padding-bottom: 0.4em;background-color: white;}#sk-container-id-3 div.sk-label label {font-family: monospace;font-weight: bold;display: inline-block;line-height: 1.2em;}#sk-container-id-3 div.sk-label-container {text-align: center;}#sk-container-id-3 div.sk-container {/* jupyter's `normalize.less` sets `[hidden] { display: none; }` but bootstrap.min.css set `[hidden] { display: none !important; }` so we also need the `!important` here to be able to override the default hidden behavior on the sphinx rendered scikit-learn.org. See: https://github.com/scikit-learn/scikit-learn/issues/21755 */display: inline-block !important;position: relative;}#sk-container-id-3 div.sk-text-repr-fallback {display: none;}</style><div id=\"sk-container-id-3\" class=\"sk-top-container\"><div class=\"sk-text-repr-fallback\"><pre>Pipeline(steps=[(&#x27;preprocessor&#x27;,\n",
              "                 ColumnTransformer(transformers=[(&#x27;num&#x27;,\n",
              "                                                  Pipeline(steps=[(&#x27;scaler&#x27;,\n",
              "                                                                   MinMaxScaler()),\n",
              "                                                                  (&#x27;poly&#x27;,\n",
              "                                                                   PolynomialFeatures(include_bias=False))]),\n",
              "                                                  [&#x27;Age&#x27;, &#x27;Tenure&#x27;, &#x27;Balance&#x27;,\n",
              "                                                   &#x27;NumOfProducts&#x27;, &#x27;HasCrCard&#x27;,\n",
              "                                                   &#x27;IsActiveMember&#x27;]),\n",
              "                                                 (&#x27;cat&#x27;,\n",
              "                                                  Pipeline(steps=[(&#x27;onehot&#x27;,\n",
              "                                                                   OneHotEncoder(drop=&#x27;if_binary&#x27;,\n",
              "                                                                                 handle_unknown=&#x27;ignore&#x27;,\n",
              "                                                                                 sparse_output=False))]),\n",
              "                                                  [&#x27;Geography&#x27;, &#x27;Gender&#x27;])])),\n",
              "                (&#x27;classifier&#x27;, LogisticRegression(solver=&#x27;liblinear&#x27;))])</pre><b>In a Jupyter environment, please rerun this cell to show the HTML representation or trust the notebook. <br />On GitHub, the HTML representation is unable to render, please try loading this page with nbviewer.org.</b></div><div class=\"sk-container\" hidden><div class=\"sk-item sk-dashed-wrapped\"><div class=\"sk-label-container\"><div class=\"sk-label sk-toggleable\"><input class=\"sk-toggleable__control sk-hidden--visually\" id=\"sk-estimator-id-16\" type=\"checkbox\" ><label for=\"sk-estimator-id-16\" class=\"sk-toggleable__label sk-toggleable__label-arrow\">Pipeline</label><div class=\"sk-toggleable__content\"><pre>Pipeline(steps=[(&#x27;preprocessor&#x27;,\n",
              "                 ColumnTransformer(transformers=[(&#x27;num&#x27;,\n",
              "                                                  Pipeline(steps=[(&#x27;scaler&#x27;,\n",
              "                                                                   MinMaxScaler()),\n",
              "                                                                  (&#x27;poly&#x27;,\n",
              "                                                                   PolynomialFeatures(include_bias=False))]),\n",
              "                                                  [&#x27;Age&#x27;, &#x27;Tenure&#x27;, &#x27;Balance&#x27;,\n",
              "                                                   &#x27;NumOfProducts&#x27;, &#x27;HasCrCard&#x27;,\n",
              "                                                   &#x27;IsActiveMember&#x27;]),\n",
              "                                                 (&#x27;cat&#x27;,\n",
              "                                                  Pipeline(steps=[(&#x27;onehot&#x27;,\n",
              "                                                                   OneHotEncoder(drop=&#x27;if_binary&#x27;,\n",
              "                                                                                 handle_unknown=&#x27;ignore&#x27;,\n",
              "                                                                                 sparse_output=False))]),\n",
              "                                                  [&#x27;Geography&#x27;, &#x27;Gender&#x27;])])),\n",
              "                (&#x27;classifier&#x27;, LogisticRegression(solver=&#x27;liblinear&#x27;))])</pre></div></div></div><div class=\"sk-serial\"><div class=\"sk-item sk-dashed-wrapped\"><div class=\"sk-label-container\"><div class=\"sk-label sk-toggleable\"><input class=\"sk-toggleable__control sk-hidden--visually\" id=\"sk-estimator-id-17\" type=\"checkbox\" ><label for=\"sk-estimator-id-17\" class=\"sk-toggleable__label sk-toggleable__label-arrow\">preprocessor: ColumnTransformer</label><div class=\"sk-toggleable__content\"><pre>ColumnTransformer(transformers=[(&#x27;num&#x27;,\n",
              "                                 Pipeline(steps=[(&#x27;scaler&#x27;, MinMaxScaler()),\n",
              "                                                 (&#x27;poly&#x27;,\n",
              "                                                  PolynomialFeatures(include_bias=False))]),\n",
              "                                 [&#x27;Age&#x27;, &#x27;Tenure&#x27;, &#x27;Balance&#x27;, &#x27;NumOfProducts&#x27;,\n",
              "                                  &#x27;HasCrCard&#x27;, &#x27;IsActiveMember&#x27;]),\n",
              "                                (&#x27;cat&#x27;,\n",
              "                                 Pipeline(steps=[(&#x27;onehot&#x27;,\n",
              "                                                  OneHotEncoder(drop=&#x27;if_binary&#x27;,\n",
              "                                                                handle_unknown=&#x27;ignore&#x27;,\n",
              "                                                                sparse_output=False))]),\n",
              "                                 [&#x27;Geography&#x27;, &#x27;Gender&#x27;])])</pre></div></div></div><div class=\"sk-parallel\"><div class=\"sk-parallel-item\"><div class=\"sk-item\"><div class=\"sk-label-container\"><div class=\"sk-label sk-toggleable\"><input class=\"sk-toggleable__control sk-hidden--visually\" id=\"sk-estimator-id-18\" type=\"checkbox\" ><label for=\"sk-estimator-id-18\" class=\"sk-toggleable__label sk-toggleable__label-arrow\">num</label><div class=\"sk-toggleable__content\"><pre>[&#x27;Age&#x27;, &#x27;Tenure&#x27;, &#x27;Balance&#x27;, &#x27;NumOfProducts&#x27;, &#x27;HasCrCard&#x27;, &#x27;IsActiveMember&#x27;]</pre></div></div></div><div class=\"sk-serial\"><div class=\"sk-item\"><div class=\"sk-serial\"><div class=\"sk-item\"><div class=\"sk-estimator sk-toggleable\"><input class=\"sk-toggleable__control sk-hidden--visually\" id=\"sk-estimator-id-19\" type=\"checkbox\" ><label for=\"sk-estimator-id-19\" class=\"sk-toggleable__label sk-toggleable__label-arrow\">MinMaxScaler</label><div class=\"sk-toggleable__content\"><pre>MinMaxScaler()</pre></div></div></div><div class=\"sk-item\"><div class=\"sk-estimator sk-toggleable\"><input class=\"sk-toggleable__control sk-hidden--visually\" id=\"sk-estimator-id-20\" type=\"checkbox\" ><label for=\"sk-estimator-id-20\" class=\"sk-toggleable__label sk-toggleable__label-arrow\">PolynomialFeatures</label><div class=\"sk-toggleable__content\"><pre>PolynomialFeatures(include_bias=False)</pre></div></div></div></div></div></div></div></div><div class=\"sk-parallel-item\"><div class=\"sk-item\"><div class=\"sk-label-container\"><div class=\"sk-label sk-toggleable\"><input class=\"sk-toggleable__control sk-hidden--visually\" id=\"sk-estimator-id-21\" type=\"checkbox\" ><label for=\"sk-estimator-id-21\" class=\"sk-toggleable__label sk-toggleable__label-arrow\">cat</label><div class=\"sk-toggleable__content\"><pre>[&#x27;Geography&#x27;, &#x27;Gender&#x27;]</pre></div></div></div><div class=\"sk-serial\"><div class=\"sk-item\"><div class=\"sk-serial\"><div class=\"sk-item\"><div class=\"sk-estimator sk-toggleable\"><input class=\"sk-toggleable__control sk-hidden--visually\" id=\"sk-estimator-id-22\" type=\"checkbox\" ><label for=\"sk-estimator-id-22\" class=\"sk-toggleable__label sk-toggleable__label-arrow\">OneHotEncoder</label><div class=\"sk-toggleable__content\"><pre>OneHotEncoder(drop=&#x27;if_binary&#x27;, handle_unknown=&#x27;ignore&#x27;, sparse_output=False)</pre></div></div></div></div></div></div></div></div></div></div><div class=\"sk-item\"><div class=\"sk-estimator sk-toggleable\"><input class=\"sk-toggleable__control sk-hidden--visually\" id=\"sk-estimator-id-23\" type=\"checkbox\" ><label for=\"sk-estimator-id-23\" class=\"sk-toggleable__label sk-toggleable__label-arrow\">LogisticRegression</label><div class=\"sk-toggleable__content\"><pre>LogisticRegression(solver=&#x27;liblinear&#x27;)</pre></div></div></div></div></div></div></div>"
            ]
          },
          "metadata": {},
          "execution_count": 33
        }
      ],
      "source": [
        "import operator\n",
        "from sklearn.preprocessing import PolynomialFeatures\n",
        "\n",
        "\n",
        "numeric_transformer = Pipeline(steps=[\n",
        "    ('scaler', MinMaxScaler()),\n",
        "    ('poly', PolynomialFeatures(degree=2, include_bias=False))\n",
        "])\n",
        "\n",
        "categorical_transformer = Pipeline(steps=[\n",
        "    ('onehot', OneHotEncoder(drop='if_binary', sparse_output=False, handle_unknown='ignore'))\n",
        "])\n",
        "\n",
        "preprocessor = ColumnTransformer(\n",
        "    transformers=[\n",
        "        ('num', numeric_transformer, numeric_cols),\n",
        "        ('cat', categorical_transformer, categorical_cols)\n",
        "    ])\n",
        "\n",
        "processor_pipeline = Pipeline(steps=[\n",
        "    ('preprocessor', preprocessor),\n",
        "    ('classifier', LogisticRegression(solver='liblinear'))\n",
        "])\n",
        "\n",
        "processor_pipeline.fit(train_inputs, train_targets)"
      ]
    },
    {
      "cell_type": "code",
      "source": [
        "train_preds = predict_and_plot(processor_pipeline, train_inputs, train_targets, 'Training')\n",
        "val_preds = predict_and_plot(processor_pipeline, val_inputs, val_targets, 'Validation')"
      ],
      "metadata": {
        "colab": {
          "base_uri": "https://localhost:8080/",
          "height": 1000
        },
        "id": "k0t_dLhRNCM4",
        "outputId": "2341d6cf-c043-4ad8-8193-3a56f4dad2c9"
      },
      "execution_count": 47,
      "outputs": [
        {
          "output_type": "stream",
          "name": "stdout",
          "text": [
            "Оцінка точності Training dataset: 0.89\n",
            "Area under ROC score on Training dataset: 0.92\n",
            "F1 score = 0.6925627664613927\n",
            "RMSE = 0.32888701200665654\n"
          ]
        },
        {
          "output_type": "display_data",
          "data": {
            "text/plain": [
              "<Figure size 640x480 with 2 Axes>"
            ],
            "image/png": "[encoded data removed]"
          },
          "metadata": {}
        },
        {
          "output_type": "stream",
          "name": "stdout",
          "text": [
            "Оцінка точності Validation dataset: 0.89\n",
            "Area under ROC score on Validation dataset: 0.92\n",
            "F1 score = 0.6923783287419651\n",
            "RMSE = 0.334165627596057\n"
          ]
        },
        {
          "output_type": "display_data",
          "data": {
            "text/plain": [
              "<Figure size 640x480 with 2 Axes>"
            ],
            "image/png": "[encoded data removed]"
          },
          "metadata": {}
        }
      ]
    },
    {
      "cell_type": "code",
      "source": [
        "test_csv = data_dir + '/test.csv'\n",
        "test_raw_df = pd.read_csv(test_csv)\n",
        "\n",
        "X_test = test_raw_df.drop(columns=['CustomerId', 'Surname'])  # Припускаємо, що тестові дані мають ті ж самі стовпці, крім 'Exited'\n",
        "test_predictions = processor_pipeline.predict_proba(X_test)[:,1]\n",
        "new_df = pd.DataFrame({'id': X_test['id'], 'Exited': test_predictions})\n",
        "sub_csv = data_dir + '/sample_submission.csv'\n",
        "sub_csv = pd.read_csv(sub_csv)\n",
        "\n",
        "for idx in new_df.index:\n",
        "    if sub_csv.at[idx, 'id'] == new_df.at[idx, 'id']:\n",
        "      sub_csv.at[idx, 'Exited'] = new_df.at[idx, 'Exited']\n",
        "    else:\n",
        "      continue\n",
        "sub_csv.to_csv('sub_poly2.csv', index=False)"
      ],
      "metadata": {
        "id": "8FxKmHugmj95"
      },
      "execution_count": 48,
      "outputs": []
    },
    {
      "cell_type": "markdown",
      "source": [
        "###Висновки 2###\n",
        "Тренувальна точність не вища за валідаційну, не спостерігається ні overfitting, ні underfitting.\n",
        "Генералізація висока![1.png](data:image/png;base64,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)"
      ],
      "metadata": {
        "id": "SNpl79d4khhu"
      }
    },
    {
      "cell_type": "markdown",
      "metadata": {
        "id": "tkmEmHaP8Pen"
      },
      "source": [
        "###Завдання 3###\n",
        "Тепер давайте створимо ще новий пайплайн, тільки тепер поліноміальні ознаки згенеруємо до степені 4. Зробіть висновок про якість моделі. Якщо вам подобається резульат якоїсь з моделей в цьому ДЗ - рекомендую зробити submission в змаганні."
      ]
    },
    {
      "cell_type": "code",
      "execution_count": 49,
      "metadata": {
        "id": "OsT-MDWuOkDY",
        "colab": {
          "base_uri": "https://localhost:8080/",
          "height": 225
        },
        "outputId": "57498a87-34be-4876-8591-716cc25b3994"
      },
      "outputs": [
        {
          "output_type": "execute_result",
          "data": {
            "text/plain": [
              "Pipeline(steps=[('preprocessor',\n",
              "                 ColumnTransformer(transformers=[('num',\n",
              "                                                  Pipeline(steps=[('scaler',\n",
              "                                                                   MinMaxScaler()),\n",
              "                                                                  ('poly',\n",
              "                                                                   PolynomialFeatures(degree=4,\n",
              "                                                                                      include_bias=False))]),\n",
              "                                                  ['Age', 'Tenure', 'Balance',\n",
              "                                                   'NumOfProducts', 'HasCrCard',\n",
              "                                                   'IsActiveMember']),\n",
              "                                                 ('cat',\n",
              "                                                  Pipeline(steps=[('onehot',\n",
              "                                                                   OneHotEncoder(drop='if_binary',\n",
              "                                                                                 handle_unknown='ignore',\n",
              "                                                                                 sparse_output=False))]),\n",
              "                                                  ['Geography', 'Gender'])])),\n",
              "                ('classifier', LogisticRegression(solver='liblinear'))])"
            ],
            "text/html": [
              "<style>#sk-container-id-4 {color: black;background-color: white;}#sk-container-id-4 pre{padding: 0;}#sk-container-id-4 div.sk-toggleable {background-color: white;}#sk-container-id-4 label.sk-toggleable__label {cursor: pointer;display: block;width: 100%;margin-bottom: 0;padding: 0.3em;box-sizing: border-box;text-align: center;}#sk-container-id-4 label.sk-toggleable__label-arrow:before {content: \"▸\";float: left;margin-right: 0.25em;color: #696969;}#sk-container-id-4 label.sk-toggleable__label-arrow:hover:before {color: black;}#sk-container-id-4 div.sk-estimator:hover label.sk-toggleable__label-arrow:before {color: black;}#sk-container-id-4 div.sk-toggleable__content {max-height: 0;max-width: 0;overflow: hidden;text-align: left;background-color: #f0f8ff;}#sk-container-id-4 div.sk-toggleable__content pre {margin: 0.2em;color: black;border-radius: 0.25em;background-color: #f0f8ff;}#sk-container-id-4 input.sk-toggleable__control:checked~div.sk-toggleable__content {max-height: 200px;max-width: 100%;overflow: auto;}#sk-container-id-4 input.sk-toggleable__control:checked~label.sk-toggleable__label-arrow:before {content: \"▾\";}#sk-container-id-4 div.sk-estimator input.sk-toggleable__control:checked~label.sk-toggleable__label {background-color: #d4ebff;}#sk-container-id-4 div.sk-label input.sk-toggleable__control:checked~label.sk-toggleable__label {background-color: #d4ebff;}#sk-container-id-4 input.sk-hidden--visually {border: 0;clip: rect(1px 1px 1px 1px);clip: rect(1px, 1px, 1px, 1px);height: 1px;margin: -1px;overflow: hidden;padding: 0;position: absolute;width: 1px;}#sk-container-id-4 div.sk-estimator {font-family: monospace;background-color: #f0f8ff;border: 1px dotted black;border-radius: 0.25em;box-sizing: border-box;margin-bottom: 0.5em;}#sk-container-id-4 div.sk-estimator:hover {background-color: #d4ebff;}#sk-container-id-4 div.sk-parallel-item::after {content: \"\";width: 100%;border-bottom: 1px solid gray;flex-grow: 1;}#sk-container-id-4 div.sk-label:hover label.sk-toggleable__label {background-color: #d4ebff;}#sk-container-id-4 div.sk-serial::before {content: \"\";position: absolute;border-left: 1px solid gray;box-sizing: border-box;top: 0;bottom: 0;left: 50%;z-index: 0;}#sk-container-id-4 div.sk-serial {display: flex;flex-direction: column;align-items: center;background-color: white;padding-right: 0.2em;padding-left: 0.2em;position: relative;}#sk-container-id-4 div.sk-item {position: relative;z-index: 1;}#sk-container-id-4 div.sk-parallel {display: flex;align-items: stretch;justify-content: center;background-color: white;position: relative;}#sk-container-id-4 div.sk-item::before, #sk-container-id-4 div.sk-parallel-item::before {content: \"\";position: absolute;border-left: 1px solid gray;box-sizing: border-box;top: 0;bottom: 0;left: 50%;z-index: -1;}#sk-container-id-4 div.sk-parallel-item {display: flex;flex-direction: column;z-index: 1;position: relative;background-color: white;}#sk-container-id-4 div.sk-parallel-item:first-child::after {align-self: flex-end;width: 50%;}#sk-container-id-4 div.sk-parallel-item:last-child::after {align-self: flex-start;width: 50%;}#sk-container-id-4 div.sk-parallel-item:only-child::after {width: 0;}#sk-container-id-4 div.sk-dashed-wrapped {border: 1px dashed gray;margin: 0 0.4em 0.5em 0.4em;box-sizing: border-box;padding-bottom: 0.4em;background-color: white;}#sk-container-id-4 div.sk-label label {font-family: monospace;font-weight: bold;display: inline-block;line-height: 1.2em;}#sk-container-id-4 div.sk-label-container {text-align: center;}#sk-container-id-4 div.sk-container {/* jupyter's `normalize.less` sets `[hidden] { display: none; }` but bootstrap.min.css set `[hidden] { display: none !important; }` so we also need the `!important` here to be able to override the default hidden behavior on the sphinx rendered scikit-learn.org. See: https://github.com/scikit-learn/scikit-learn/issues/21755 */display: inline-block !important;position: relative;}#sk-container-id-4 div.sk-text-repr-fallback {display: none;}</style><div id=\"sk-container-id-4\" class=\"sk-top-container\"><div class=\"sk-text-repr-fallback\"><pre>Pipeline(steps=[(&#x27;preprocessor&#x27;,\n",
              "                 ColumnTransformer(transformers=[(&#x27;num&#x27;,\n",
              "                                                  Pipeline(steps=[(&#x27;scaler&#x27;,\n",
              "                                                                   MinMaxScaler()),\n",
              "                                                                  (&#x27;poly&#x27;,\n",
              "                                                                   PolynomialFeatures(degree=4,\n",
              "                                                                                      include_bias=False))]),\n",
              "                                                  [&#x27;Age&#x27;, &#x27;Tenure&#x27;, &#x27;Balance&#x27;,\n",
              "                                                   &#x27;NumOfProducts&#x27;, &#x27;HasCrCard&#x27;,\n",
              "                                                   &#x27;IsActiveMember&#x27;]),\n",
              "                                                 (&#x27;cat&#x27;,\n",
              "                                                  Pipeline(steps=[(&#x27;onehot&#x27;,\n",
              "                                                                   OneHotEncoder(drop=&#x27;if_binary&#x27;,\n",
              "                                                                                 handle_unknown=&#x27;ignore&#x27;,\n",
              "                                                                                 sparse_output=False))]),\n",
              "                                                  [&#x27;Geography&#x27;, &#x27;Gender&#x27;])])),\n",
              "                (&#x27;classifier&#x27;, LogisticRegression(solver=&#x27;liblinear&#x27;))])</pre><b>In a Jupyter environment, please rerun this cell to show the HTML representation or trust the notebook. <br />On GitHub, the HTML representation is unable to render, please try loading this page with nbviewer.org.</b></div><div class=\"sk-container\" hidden><div class=\"sk-item sk-dashed-wrapped\"><div class=\"sk-label-container\"><div class=\"sk-label sk-toggleable\"><input class=\"sk-toggleable__control sk-hidden--visually\" id=\"sk-estimator-id-24\" type=\"checkbox\" ><label for=\"sk-estimator-id-24\" class=\"sk-toggleable__label sk-toggleable__label-arrow\">Pipeline</label><div class=\"sk-toggleable__content\"><pre>Pipeline(steps=[(&#x27;preprocessor&#x27;,\n",
              "                 ColumnTransformer(transformers=[(&#x27;num&#x27;,\n",
              "                                                  Pipeline(steps=[(&#x27;scaler&#x27;,\n",
              "                                                                   MinMaxScaler()),\n",
              "                                                                  (&#x27;poly&#x27;,\n",
              "                                                                   PolynomialFeatures(degree=4,\n",
              "                                                                                      include_bias=False))]),\n",
              "                                                  [&#x27;Age&#x27;, &#x27;Tenure&#x27;, &#x27;Balance&#x27;,\n",
              "                                                   &#x27;NumOfProducts&#x27;, &#x27;HasCrCard&#x27;,\n",
              "                                                   &#x27;IsActiveMember&#x27;]),\n",
              "                                                 (&#x27;cat&#x27;,\n",
              "                                                  Pipeline(steps=[(&#x27;onehot&#x27;,\n",
              "                                                                   OneHotEncoder(drop=&#x27;if_binary&#x27;,\n",
              "                                                                                 handle_unknown=&#x27;ignore&#x27;,\n",
              "                                                                                 sparse_output=False))]),\n",
              "                                                  [&#x27;Geography&#x27;, &#x27;Gender&#x27;])])),\n",
              "                (&#x27;classifier&#x27;, LogisticRegression(solver=&#x27;liblinear&#x27;))])</pre></div></div></div><div class=\"sk-serial\"><div class=\"sk-item sk-dashed-wrapped\"><div class=\"sk-label-container\"><div class=\"sk-label sk-toggleable\"><input class=\"sk-toggleable__control sk-hidden--visually\" id=\"sk-estimator-id-25\" type=\"checkbox\" ><label for=\"sk-estimator-id-25\" class=\"sk-toggleable__label sk-toggleable__label-arrow\">preprocessor: ColumnTransformer</label><div class=\"sk-toggleable__content\"><pre>ColumnTransformer(transformers=[(&#x27;num&#x27;,\n",
              "                                 Pipeline(steps=[(&#x27;scaler&#x27;, MinMaxScaler()),\n",
              "                                                 (&#x27;poly&#x27;,\n",
              "                                                  PolynomialFeatures(degree=4,\n",
              "                                                                     include_bias=False))]),\n",
              "                                 [&#x27;Age&#x27;, &#x27;Tenure&#x27;, &#x27;Balance&#x27;, &#x27;NumOfProducts&#x27;,\n",
              "                                  &#x27;HasCrCard&#x27;, &#x27;IsActiveMember&#x27;]),\n",
              "                                (&#x27;cat&#x27;,\n",
              "                                 Pipeline(steps=[(&#x27;onehot&#x27;,\n",
              "                                                  OneHotEncoder(drop=&#x27;if_binary&#x27;,\n",
              "                                                                handle_unknown=&#x27;ignore&#x27;,\n",
              "                                                                sparse_output=False))]),\n",
              "                                 [&#x27;Geography&#x27;, &#x27;Gender&#x27;])])</pre></div></div></div><div class=\"sk-parallel\"><div class=\"sk-parallel-item\"><div class=\"sk-item\"><div class=\"sk-label-container\"><div class=\"sk-label sk-toggleable\"><input class=\"sk-toggleable__control sk-hidden--visually\" id=\"sk-estimator-id-26\" type=\"checkbox\" ><label for=\"sk-estimator-id-26\" class=\"sk-toggleable__label sk-toggleable__label-arrow\">num</label><div class=\"sk-toggleable__content\"><pre>[&#x27;Age&#x27;, &#x27;Tenure&#x27;, &#x27;Balance&#x27;, &#x27;NumOfProducts&#x27;, &#x27;HasCrCard&#x27;, &#x27;IsActiveMember&#x27;]</pre></div></div></div><div class=\"sk-serial\"><div class=\"sk-item\"><div class=\"sk-serial\"><div class=\"sk-item\"><div class=\"sk-estimator sk-toggleable\"><input class=\"sk-toggleable__control sk-hidden--visually\" id=\"sk-estimator-id-27\" type=\"checkbox\" ><label for=\"sk-estimator-id-27\" class=\"sk-toggleable__label sk-toggleable__label-arrow\">MinMaxScaler</label><div class=\"sk-toggleable__content\"><pre>MinMaxScaler()</pre></div></div></div><div class=\"sk-item\"><div class=\"sk-estimator sk-toggleable\"><input class=\"sk-toggleable__control sk-hidden--visually\" id=\"sk-estimator-id-28\" type=\"checkbox\" ><label for=\"sk-estimator-id-28\" class=\"sk-toggleable__label sk-toggleable__label-arrow\">PolynomialFeatures</label><div class=\"sk-toggleable__content\"><pre>PolynomialFeatures(degree=4, include_bias=False)</pre></div></div></div></div></div></div></div></div><div class=\"sk-parallel-item\"><div class=\"sk-item\"><div class=\"sk-label-container\"><div class=\"sk-label sk-toggleable\"><input class=\"sk-toggleable__control sk-hidden--visually\" id=\"sk-estimator-id-29\" type=\"checkbox\" ><label for=\"sk-estimator-id-29\" class=\"sk-toggleable__label sk-toggleable__label-arrow\">cat</label><div class=\"sk-toggleable__content\"><pre>[&#x27;Geography&#x27;, &#x27;Gender&#x27;]</pre></div></div></div><div class=\"sk-serial\"><div class=\"sk-item\"><div class=\"sk-serial\"><div class=\"sk-item\"><div class=\"sk-estimator sk-toggleable\"><input class=\"sk-toggleable__control sk-hidden--visually\" id=\"sk-estimator-id-30\" type=\"checkbox\" ><label for=\"sk-estimator-id-30\" class=\"sk-toggleable__label sk-toggleable__label-arrow\">OneHotEncoder</label><div class=\"sk-toggleable__content\"><pre>OneHotEncoder(drop=&#x27;if_binary&#x27;, handle_unknown=&#x27;ignore&#x27;, sparse_output=False)</pre></div></div></div></div></div></div></div></div></div></div><div class=\"sk-item\"><div class=\"sk-estimator sk-toggleable\"><input class=\"sk-toggleable__control sk-hidden--visually\" id=\"sk-estimator-id-31\" type=\"checkbox\" ><label for=\"sk-estimator-id-31\" class=\"sk-toggleable__label sk-toggleable__label-arrow\">LogisticRegression</label><div class=\"sk-toggleable__content\"><pre>LogisticRegression(solver=&#x27;liblinear&#x27;)</pre></div></div></div></div></div></div></div>"
            ]
          },
          "metadata": {},
          "execution_count": 49
        }
      ],
      "source": [
        "numeric_transformer = Pipeline(steps=[\n",
        "    ('scaler', MinMaxScaler()),\n",
        "    ('poly', PolynomialFeatures(degree=4, include_bias=False))\n",
        "])\n",
        "\n",
        "categorical_transformer = Pipeline(steps=[\n",
        "    ('onehot', OneHotEncoder(drop='if_binary', sparse_output=False, handle_unknown='ignore'))\n",
        "])\n",
        "\n",
        "preprocessor = ColumnTransformer(\n",
        "    transformers=[\n",
        "        ('num', numeric_transformer, numeric_cols),\n",
        "        ('cat', categorical_transformer, categorical_cols)\n",
        "    ])\n",
        "\n",
        "processor_4_pipeline = Pipeline(steps=[\n",
        "    ('preprocessor', preprocessor),\n",
        "    ('classifier', LogisticRegression(solver='liblinear'))\n",
        "])\n",
        "\n",
        "processor_4_pipeline.fit(train_inputs, train_targets)"
      ]
    },
    {
      "cell_type": "code",
      "source": [
        "train_preds = predict_and_plot(processor_4_pipeline, train_inputs, train_targets, 'Training')\n",
        "val_preds = predict_and_plot(processor_4_pipeline, val_inputs, val_targets, 'Validation')"
      ],
      "metadata": {
        "colab": {
          "base_uri": "https://localhost:8080/",
          "height": 1000
        },
        "id": "0Y0P2YRNtgqm",
        "outputId": "862456fd-12d1-4675-9a2b-d67787f406b9"
      },
      "execution_count": 50,
      "outputs": [
        {
          "output_type": "stream",
          "name": "stdout",
          "text": [
            "Оцінка точності Training dataset: 0.90\n",
            "Area under ROC score on Training dataset: 0.93\n",
            "F1 score = 0.7329390354868062\n",
            "RMSE = 0.31278320500521334\n"
          ]
        },
        {
          "output_type": "display_data",
          "data": {
            "text/plain": [
              "<Figure size 640x480 with 2 Axes>"
            ],
            "image/png": "[encoded data removed]"
          },
          "metadata": {}
        },
        {
          "output_type": "stream",
          "name": "stdout",
          "text": [
            "Оцінка точності Validation dataset: 0.90\n",
            "Area under ROC score on Validation dataset: 0.93\n",
            "F1 score = 0.7310098302055407\n",
            "RMSE = 0.31675437381878935\n"
          ]
        },
        {
          "output_type": "display_data",
          "data": {
            "text/plain": [
              "<Figure size 640x480 with 2 Axes>"
            ],
            "image/png": "[encoded data removed]"
          },
          "metadata": {}
        }
      ]
    },
    {
      "cell_type": "code",
      "source": [
        "test_csv = data_dir + '/test.csv'\n",
        "test_raw_df = pd.read_csv(test_csv)\n",
        "\n",
        "X_test = test_raw_df.drop(columns=['CustomerId', 'Surname'])  # Припускаємо, що тестові дані мають ті ж самі стовпці, крім 'Exited'\n",
        "test_predictions = processor_pipeline.predict_proba(X_test)[:,1]\n",
        "new_df = pd.DataFrame({'id': X_test['id'], 'Exited': test_predictions})\n",
        "sub_csv = data_dir + '/sample_submission.csv'\n",
        "sub_csv = pd.read_csv(sub_csv)\n",
        "\n",
        "for idx in new_df.index:\n",
        "    if sub_csv.at[idx, 'id'] == new_df.at[idx, 'id']:\n",
        "      sub_csv.at[idx, 'Exited'] = new_df.at[idx, 'Exited']\n",
        "    else:\n",
        "      continue\n",
        "sub_csv.to_csv('sub_poly4.csv', index=False)"
      ],
      "metadata": {
        "id": "kTXeOfTFtrGH"
      },
      "execution_count": 51,
      "outputs": []
    },
    {
      "cell_type": "markdown",
      "source": [
        "###Висновок 3###\n",
        "Генералізація при ступені 4 не змінилась\n",
        "![2.png](data:image/png;base64,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)"
      ],
      "metadata": {
        "id": "KBZAi0eHuIlL"
      }
    },
    {
      "cell_type": "markdown",
      "metadata": {
        "id": "ozN2ONZGCBS6"
      },
      "source": [
        "###Завдання 4###\n",
        " Перенавчання і регуляризація**.\n",
        "\n",
        "  Скачайте набір даних `regression_data.csv`. Звичайте набір даних з `regression_data.csv`, розбийте на train і test (в тест 20%) і натренуйте модель лінійної регресії з масштабуванням числових ознак і поліноміальними ознаками до степені **5 включно**.\n",
        "\n",
        "  Виміряйте якість прогностичної моделі і зробіть висновок, чи модель хороша, чи вона добре генералізує?\n"
      ]
    },
    {
      "cell_type": "code",
      "execution_count": 65,
      "metadata": {
        "id": "xbl0jQ3WOlgn"
      },
      "outputs": [],
      "source": [
        "reg_path_csv =  '/content/drive/MyDrive/Homeworks/regression_data.csv'\n",
        "reg_df = pd.read_csv(reg_path_csv)"
      ]
    },
    {
      "cell_type": "code",
      "source": [
        "reg_df.head()"
      ],
      "metadata": {
        "colab": {
          "base_uri": "https://localhost:8080/",
          "height": 206
        },
        "id": "U5nMkqSvvtXu",
        "outputId": "84cb1b14-dd78-4f0e-d18c-6cfd1d62e0a4"
      },
      "execution_count": 73,
      "outputs": [
        {
          "output_type": "execute_result",
          "data": {
            "text/plain": [
              "   feature_1  feature_2  feature_3  feature_4  feature_5     target\n",
              "0  -0.190339  -1.382800  -0.875618   0.538910  -1.037246  28.938854\n",
              "1  -0.321386  -0.563725   0.412931  -0.147057  -0.825497  -7.664581\n",
              "2   2.122156  -1.519370   1.032465  -1.260884   0.917862 -63.845482\n",
              "3  -1.380101  -0.055548  -1.703382   0.074095   1.628616   4.076259\n",
              "4  -0.072829  -1.514847  -0.846794   0.714000   0.473238  34.879013"
            ],
            "text/html": [
              "\n",
              "  <div id=\"df-5cbed8c5-66b7-4af1-a107-e6a289485635\" class=\"colab-df-container\">\n",
              "    <div>\n",
              "<style scoped>\n",
              "    .dataframe tbody tr th:only-of-type {\n",
              "        vertical-align: middle;\n",
              "    }\n",
              "\n",
              "    .dataframe tbody tr th {\n",
              "        vertical-align: top;\n",
              "    }\n",
              "\n",
              "    .dataframe thead th {\n",
              "        text-align: right;\n",
              "    }\n",
              "</style>\n",
              "<table border=\"1\" class=\"dataframe\">\n",
              "  <thead>\n",
              "    <tr style=\"text-align: right;\">\n",
              "      <th></th>\n",
              "      <th>feature_1</th>\n",
              "      <th>feature_2</th>\n",
              "      <th>feature_3</th>\n",
              "      <th>feature_4</th>\n",
              "      <th>feature_5</th>\n",
              "      <th>target</th>\n",
              "    </tr>\n",
              "  </thead>\n",
              "  <tbody>\n",
              "    <tr>\n",
              "      <th>0</th>\n",
              "      <td>-0.190339</td>\n",
              "      <td>-1.382800</td>\n",
              "      <td>-0.875618</td>\n",
              "      <td>0.538910</td>\n",
              "      <td>-1.037246</td>\n",
              "      <td>28.938854</td>\n",
              "    </tr>\n",
              "    <tr>\n",
              "      <th>1</th>\n",
              "      <td>-0.321386</td>\n",
              "      <td>-0.563725</td>\n",
              "      <td>0.412931</td>\n",
              "      <td>-0.147057</td>\n",
              "      <td>-0.825497</td>\n",
              "      <td>-7.664581</td>\n",
              "    </tr>\n",
              "    <tr>\n",
              "      <th>2</th>\n",
              "      <td>2.122156</td>\n",
              "      <td>-1.519370</td>\n",
              "      <td>1.032465</td>\n",
              "      <td>-1.260884</td>\n",
              "      <td>0.917862</td>\n",
              "      <td>-63.845482</td>\n",
              "    </tr>\n",
              "    <tr>\n",
              "      <th>3</th>\n",
              "      <td>-1.380101</td>\n",
              "      <td>-0.055548</td>\n",
              "      <td>-1.703382</td>\n",
              "      <td>0.074095</td>\n",
              "      <td>1.628616</td>\n",
              "      <td>4.076259</td>\n",
              "    </tr>\n",
              "    <tr>\n",
              "      <th>4</th>\n",
              "      <td>-0.072829</td>\n",
              "      <td>-1.514847</td>\n",
              "      <td>-0.846794</td>\n",
              "      <td>0.714000</td>\n",
              "      <td>0.473238</td>\n",
              "      <td>34.879013</td>\n",
              "    </tr>\n",
              "  </tbody>\n",
              "</table>\n",
              "</div>\n",
              "    <div class=\"colab-df-buttons\">\n",
              "\n",
              "  <div class=\"colab-df-container\">\n",
              "    <button class=\"colab-df-convert\" onclick=\"convertToInteractive('df-5cbed8c5-66b7-4af1-a107-e6a289485635')\"\n",
              "            title=\"Convert this dataframe to an interactive table.\"\n",
              "            style=\"display:none;\">\n",
              "\n",
              "  <svg xmlns=\"http://www.w3.org/2000/svg\" height=\"24px\" viewBox=\"0 -960 960 960\">\n",
              "    <path d=\"M120-120v-720h720v720H120Zm60-500h600v-160H180v160Zm220 220h160v-160H400v160Zm0 220h160v-160H400v160ZM180-400h160v-160H180v160Zm440 0h160v-160H620v160ZM180-180h160v-160H180v160Zm440 0h160v-160H620v160Z\"/>\n",
              "  </svg>\n",
              "    </button>\n",
              "\n",
              "  <style>\n",
              "    .colab-df-container {\n",
              "      display:flex;\n",
              "      gap: 12px;\n",
              "    }\n",
              "\n",
              "    .colab-df-convert {\n",
              "      background-color: #E8F0FE;\n",
              "      border: none;\n",
              "      border-radius: 50%;\n",
              "      cursor: pointer;\n",
              "      display: none;\n",
              "      fill: #1967D2;\n",
              "      height: 32px;\n",
              "      padding: 0 0 0 0;\n",
              "      width: 32px;\n",
              "    }\n",
              "\n",
              "    .colab-df-convert:hover {\n",
              "      background-color: #E2EBFA;\n",
              "      box-shadow: 0px 1px 2px rgba(60, 64, 67, 0.3), 0px 1px 3px 1px rgba(60, 64, 67, 0.15);\n",
              "      fill: #174EA6;\n",
              "    }\n",
              "\n",
              "    .colab-df-buttons div {\n",
              "      margin-bottom: 4px;\n",
              "    }\n",
              "\n",
              "    [theme=dark] .colab-df-convert {\n",
              "      background-color: #3B4455;\n",
              "      fill: #D2E3FC;\n",
              "    }\n",
              "\n",
              "    [theme=dark] .colab-df-convert:hover {\n",
              "      background-color: #434B5C;\n",
              "      box-shadow: 0px 1px 3px 1px rgba(0, 0, 0, 0.15);\n",
              "      filter: drop-shadow(0px 1px 2px rgba(0, 0, 0, 0.3));\n",
              "      fill: #FFFFFF;\n",
              "    }\n",
              "  </style>\n",
              "\n",
              "    <script>\n",
              "      const buttonEl =\n",
              "        document.querySelector('#df-5cbed8c5-66b7-4af1-a107-e6a289485635 button.colab-df-convert');\n",
              "      buttonEl.style.display =\n",
              "        google.colab.kernel.accessAllowed ? 'block' : 'none';\n",
              "\n",
              "      async function convertToInteractive(key) {\n",
              "        const element = document.querySelector('#df-5cbed8c5-66b7-4af1-a107-e6a289485635');\n",
              "        const dataTable =\n",
              "          await google.colab.kernel.invokeFunction('convertToInteractive',\n",
              "                                                    [key], {});\n",
              "        if (!dataTable) return;\n",
              "\n",
              "        const docLinkHtml = 'Like what you see? Visit the ' +\n",
              "          '<a target=\"_blank\" href=https://colab.research.google.com/notebooks/data_table.ipynb>data table notebook</a>'\n",
              "          + ' to learn more about interactive tables.';\n",
              "        element.innerHTML = '';\n",
              "        dataTable['output_type'] = 'display_data';\n",
              "        await google.colab.output.renderOutput(dataTable, element);\n",
              "        const docLink = document.createElement('div');\n",
              "        docLink.innerHTML = docLinkHtml;\n",
              "        element.appendChild(docLink);\n",
              "      }\n",
              "    </script>\n",
              "  </div>\n",
              "\n",
              "\n",
              "<div id=\"df-932ffbd7-f71b-4d31-a1b7-5027554cdf98\">\n",
              "  <button class=\"colab-df-quickchart\" onclick=\"quickchart('df-932ffbd7-f71b-4d31-a1b7-5027554cdf98')\"\n",
              "            title=\"Suggest charts\"\n",
              "            style=\"display:none;\">\n",
              "\n",
              "<svg xmlns=\"http://www.w3.org/2000/svg\" height=\"24px\"viewBox=\"0 0 24 24\"\n",
              "     width=\"24px\">\n",
              "    <g>\n",
              "        <path d=\"M19 3H5c-1.1 0-2 .9-2 2v14c0 1.1.9 2 2 2h14c1.1 0 2-.9 2-2V5c0-1.1-.9-2-2-2zM9 17H7v-7h2v7zm4 0h-2V7h2v10zm4 0h-2v-4h2v4z\"/>\n",
              "    </g>\n",
              "</svg>\n",
              "  </button>\n",
              "\n",
              "<style>\n",
              "  .colab-df-quickchart {\n",
              "      --bg-color: #E8F0FE;\n",
              "      --fill-color: #1967D2;\n",
              "      --hover-bg-color: #E2EBFA;\n",
              "      --hover-fill-color: #174EA6;\n",
              "      --disabled-fill-color: #AAA;\n",
              "      --disabled-bg-color: #DDD;\n",
              "  }\n",
              "\n",
              "  [theme=dark] .colab-df-quickchart {\n",
              "      --bg-color: #3B4455;\n",
              "      --fill-color: #D2E3FC;\n",
              "      --hover-bg-color: #434B5C;\n",
              "      --hover-fill-color: #FFFFFF;\n",
              "      --disabled-bg-color: #3B4455;\n",
              "      --disabled-fill-color: #666;\n",
              "  }\n",
              "\n",
              "  .colab-df-quickchart {\n",
              "    background-color: var(--bg-color);\n",
              "    border: none;\n",
              "    border-radius: 50%;\n",
              "    cursor: pointer;\n",
              "    display: none;\n",
              "    fill: var(--fill-color);\n",
              "    height: 32px;\n",
              "    padding: 0;\n",
              "    width: 32px;\n",
              "  }\n",
              "\n",
              "  .colab-df-quickchart:hover {\n",
              "    background-color: var(--hover-bg-color);\n",
              "    box-shadow: 0 1px 2px rgba(60, 64, 67, 0.3), 0 1px 3px 1px rgba(60, 64, 67, 0.15);\n",
              "    fill: var(--button-hover-fill-color);\n",
              "  }\n",
              "\n",
              "  .colab-df-quickchart-complete:disabled,\n",
              "  .colab-df-quickchart-complete:disabled:hover {\n",
              "    background-color: var(--disabled-bg-color);\n",
              "    fill: var(--disabled-fill-color);\n",
              "    box-shadow: none;\n",
              "  }\n",
              "\n",
              "  .colab-df-spinner {\n",
              "    border: 2px solid var(--fill-color);\n",
              "    border-color: transparent;\n",
              "    border-bottom-color: var(--fill-color);\n",
              "    animation:\n",
              "      spin 1s steps(1) infinite;\n",
              "  }\n",
              "\n",
              "  @keyframes spin {\n",
              "    0% {\n",
              "      border-color: transparent;\n",
              "      border-bottom-color: var(--fill-color);\n",
              "      border-left-color: var(--fill-color);\n",
              "    }\n",
              "    20% {\n",
              "      border-color: transparent;\n",
              "      border-left-color: var(--fill-color);\n",
              "      border-top-color: var(--fill-color);\n",
              "    }\n",
              "    30% {\n",
              "      border-color: transparent;\n",
              "      border-left-color: var(--fill-color);\n",
              "      border-top-color: var(--fill-color);\n",
              "      border-right-color: var(--fill-color);\n",
              "    }\n",
              "    40% {\n",
              "      border-color: transparent;\n",
              "      border-right-color: var(--fill-color);\n",
              "      border-top-color: var(--fill-color);\n",
              "    }\n",
              "    60% {\n",
              "      border-color: transparent;\n",
              "      border-right-color: var(--fill-color);\n",
              "    }\n",
              "    80% {\n",
              "      border-color: transparent;\n",
              "      border-right-color: var(--fill-color);\n",
              "      border-bottom-color: var(--fill-color);\n",
              "    }\n",
              "    90% {\n",
              "      border-color: transparent;\n",
              "      border-bottom-color: var(--fill-color);\n",
              "    }\n",
              "  }\n",
              "</style>\n",
              "\n",
              "  <script>\n",
              "    async function quickchart(key) {\n",
              "      const quickchartButtonEl =\n",
              "        document.querySelector('#' + key + ' button');\n",
              "      quickchartButtonEl.disabled = true;  // To prevent multiple clicks.\n",
              "      quickchartButtonEl.classList.add('colab-df-spinner');\n",
              "      try {\n",
              "        const charts = await google.colab.kernel.invokeFunction(\n",
              "            'suggestCharts', [key], {});\n",
              "      } catch (error) {\n",
              "        console.error('Error during call to suggestCharts:', error);\n",
              "      }\n",
              "      quickchartButtonEl.classList.remove('colab-df-spinner');\n",
              "      quickchartButtonEl.classList.add('colab-df-quickchart-complete');\n",
              "    }\n",
              "    (() => {\n",
              "      let quickchartButtonEl =\n",
              "        document.querySelector('#df-932ffbd7-f71b-4d31-a1b7-5027554cdf98 button');\n",
              "      quickchartButtonEl.style.display =\n",
              "        google.colab.kernel.accessAllowed ? 'block' : 'none';\n",
              "    })();\n",
              "  </script>\n",
              "</div>\n",
              "    </div>\n",
              "  </div>\n"
            ],
            "application/vnd.google.colaboratory.intrinsic+json": {
              "type": "dataframe",
              "variable_name": "reg_df",
              "summary": "{\n  \"name\": \"reg_df\",\n  \"rows\": 129,\n  \"fields\": [\n    {\n      \"column\": \"feature_1\",\n      \"properties\": {\n        \"dtype\": \"number\",\n        \"std\": 0.9412144270191439,\n        \"min\": -3.241267340069073,\n        \"max\": 2.122156197012633,\n        \"num_unique_values\": 129,\n        \"samples\": [\n          -1.6074832345612275,\n          -0.1580078985789894,\n          -0.0660797986473165\n        ],\n        \"semantic_type\": \"\",\n        \"description\": \"\"\n      }\n    },\n    {\n      \"column\": \"feature_2\",\n      \"properties\": {\n        \"dtype\": \"number\",\n        \"std\": 1.0658870534133857,\n        \"min\": -2.6197451040897444,\n        \"max\": 3.852731490654721,\n        \"num_unique_values\": 129,\n        \"samples\": [\n          0.2598827942484235,\n          -1.0121043752601675,\n          -0.6518361078021592\n        ],\n        \"semantic_type\": \"\",\n        \"description\": \"\"\n      }\n    },\n    {\n      \"column\": \"feature_3\",\n      \"properties\": {\n        \"dtype\": \"number\",\n        \"std\": 0.9785571926549229,\n        \"min\": -1.913280244657798,\n        \"max\": 3.0788808084552377,\n        \"num_unique_values\": 129,\n        \"samples\": [\n          0.1846338585323042,\n          -0.42688106994742,\n          -1.211016199762457\n        ],\n        \"semantic_type\": \"\",\n        \"description\": \"\"\n      }\n    },\n    {\n      \"column\": \"feature_4\",\n      \"properties\": {\n        \"dtype\": \"number\",\n        \"std\": 0.9105881535819239,\n        \"min\": -2.211135309007885,\n        \"max\": 2.3146585666735087,\n        \"num_unique_values\": 129,\n        \"samples\": [\n          0.2274599346041294,\n          -1.6924646297148194,\n          0.6385924587773739\n        ],\n        \"semantic_type\": \"\",\n        \"description\": \"\"\n      }\n    },\n    {\n      \"column\": \"feature_5\",\n      \"properties\": {\n        \"dtype\": \"number\",\n        \"std\": 1.004498068611803,\n        \"min\": -2.301921164735585,\n        \"max\": 2.075400798645439,\n        \"num_unique_values\": 129,\n        \"samples\": [\n          1.307142754282428,\n          1.5295503194606137,\n          -1.66152006226896\n        ],\n        \"semantic_type\": \"\",\n        \"description\": \"\"\n      }\n    },\n    {\n      \"column\": \"target\",\n      \"properties\": {\n        \"dtype\": \"number\",\n        \"std\": 45.46662135515644,\n        \"min\": -111.75381023526477,\n        \"max\": 115.12590740098972,\n        \"num_unique_values\": 129,\n        \"samples\": [\n          11.86363486054443,\n          -84.2273771262452,\n          31.16662131112943\n        ],\n        \"semantic_type\": \"\",\n        \"description\": \"\"\n      }\n    }\n  ]\n}"
            }
          },
          "metadata": {},
          "execution_count": 73
        }
      ]
    },
    {
      "cell_type": "code",
      "source": [
        "reg_df.dtypes"
      ],
      "metadata": {
        "colab": {
          "base_uri": "https://localhost:8080/"
        },
        "id": "zSE10z2q0G0Y",
        "outputId": "2ee632e8-59b6-4881-c1f8-a2ccb1c72fa5"
      },
      "execution_count": 80,
      "outputs": [
        {
          "output_type": "execute_result",
          "data": {
            "text/plain": [
              "feature_1    float64\n",
              "feature_2    float64\n",
              "feature_3    float64\n",
              "feature_4    float64\n",
              "feature_5    float64\n",
              "target       float64\n",
              "dtype: object"
            ]
          },
          "metadata": {},
          "execution_count": 80
        }
      ]
    },
    {
      "cell_type": "code",
      "source": [
        "train_reg, val_reg = train_test_split(reg_df, test_size=0.20, random_state=42)\n",
        "\n",
        "\n",
        "# Створюємо трен. і вал. набори\n",
        "input_cols = list(reg_df.columns)[1:-1]\n",
        "target_col = 'target'\n",
        "train_inputs, train_targets = train_reg[input_cols], train_reg[target_col]\n",
        "val_inputs, val_targets = val_reg[input_cols], val_reg[target_col]"
      ],
      "metadata": {
        "id": "QOWzqndMwz50"
      },
      "execution_count": 72,
      "outputs": []
    },
    {
      "cell_type": "code",
      "source": [
        "numeric_transformer = Pipeline(steps=[\n",
        "    ('scaler', MinMaxScaler()),\n",
        "    ('poly', PolynomialFeatures(degree=5, include_bias=False))\n",
        "])\n",
        "\n",
        "preprocessor = ColumnTransformer(\n",
        "    transformers=[\n",
        "        ('num', numeric_transformer, input_cols)\n",
        "    ])\n",
        "\n",
        "processor_5_pipeline = Pipeline(steps=[\n",
        "    ('preprocessor', preprocessor),\n",
        "    ('classifier', LinearRegression())\n",
        "])\n",
        "\n",
        "processor_5_pipeline.fit(train_inputs, train_targets)"
      ],
      "metadata": {
        "colab": {
          "base_uri": "https://localhost:8080/",
          "height": 225
        },
        "id": "ugWgUt54ytSq",
        "outputId": "8ea4f65f-54aa-43ff-acd5-0ea4f5793ed7"
      },
      "execution_count": 77,
      "outputs": [
        {
          "output_type": "execute_result",
          "data": {
            "text/plain": [
              "Pipeline(steps=[('preprocessor',\n",
              "                 ColumnTransformer(transformers=[('num',\n",
              "                                                  Pipeline(steps=[('scaler',\n",
              "                                                                   MinMaxScaler()),\n",
              "                                                                  ('poly',\n",
              "                                                                   PolynomialFeatures(degree=5,\n",
              "                                                                                      include_bias=False))]),\n",
              "                                                  ['feature_2', 'feature_3',\n",
              "                                                   'feature_4',\n",
              "                                                   'feature_5'])])),\n",
              "                ('classifier', LinearRegression())])"
            ],
            "text/html": [
              "<style>#sk-container-id-5 {color: black;background-color: white;}#sk-container-id-5 pre{padding: 0;}#sk-container-id-5 div.sk-toggleable {background-color: white;}#sk-container-id-5 label.sk-toggleable__label {cursor: pointer;display: block;width: 100%;margin-bottom: 0;padding: 0.3em;box-sizing: border-box;text-align: center;}#sk-container-id-5 label.sk-toggleable__label-arrow:before {content: \"▸\";float: left;margin-right: 0.25em;color: #696969;}#sk-container-id-5 label.sk-toggleable__label-arrow:hover:before {color: black;}#sk-container-id-5 div.sk-estimator:hover label.sk-toggleable__label-arrow:before {color: black;}#sk-container-id-5 div.sk-toggleable__content {max-height: 0;max-width: 0;overflow: hidden;text-align: left;background-color: #f0f8ff;}#sk-container-id-5 div.sk-toggleable__content pre {margin: 0.2em;color: black;border-radius: 0.25em;background-color: #f0f8ff;}#sk-container-id-5 input.sk-toggleable__control:checked~div.sk-toggleable__content {max-height: 200px;max-width: 100%;overflow: auto;}#sk-container-id-5 input.sk-toggleable__control:checked~label.sk-toggleable__label-arrow:before {content: \"▾\";}#sk-container-id-5 div.sk-estimator input.sk-toggleable__control:checked~label.sk-toggleable__label {background-color: #d4ebff;}#sk-container-id-5 div.sk-label input.sk-toggleable__control:checked~label.sk-toggleable__label {background-color: #d4ebff;}#sk-container-id-5 input.sk-hidden--visually {border: 0;clip: rect(1px 1px 1px 1px);clip: rect(1px, 1px, 1px, 1px);height: 1px;margin: -1px;overflow: hidden;padding: 0;position: absolute;width: 1px;}#sk-container-id-5 div.sk-estimator {font-family: monospace;background-color: #f0f8ff;border: 1px dotted black;border-radius: 0.25em;box-sizing: border-box;margin-bottom: 0.5em;}#sk-container-id-5 div.sk-estimator:hover {background-color: #d4ebff;}#sk-container-id-5 div.sk-parallel-item::after {content: \"\";width: 100%;border-bottom: 1px solid gray;flex-grow: 1;}#sk-container-id-5 div.sk-label:hover label.sk-toggleable__label {background-color: #d4ebff;}#sk-container-id-5 div.sk-serial::before {content: \"\";position: absolute;border-left: 1px solid gray;box-sizing: border-box;top: 0;bottom: 0;left: 50%;z-index: 0;}#sk-container-id-5 div.sk-serial {display: flex;flex-direction: column;align-items: center;background-color: white;padding-right: 0.2em;padding-left: 0.2em;position: relative;}#sk-container-id-5 div.sk-item {position: relative;z-index: 1;}#sk-container-id-5 div.sk-parallel {display: flex;align-items: stretch;justify-content: center;background-color: white;position: relative;}#sk-container-id-5 div.sk-item::before, #sk-container-id-5 div.sk-parallel-item::before {content: \"\";position: absolute;border-left: 1px solid gray;box-sizing: border-box;top: 0;bottom: 0;left: 50%;z-index: -1;}#sk-container-id-5 div.sk-parallel-item {display: flex;flex-direction: column;z-index: 1;position: relative;background-color: white;}#sk-container-id-5 div.sk-parallel-item:first-child::after {align-self: flex-end;width: 50%;}#sk-container-id-5 div.sk-parallel-item:last-child::after {align-self: flex-start;width: 50%;}#sk-container-id-5 div.sk-parallel-item:only-child::after {width: 0;}#sk-container-id-5 div.sk-dashed-wrapped {border: 1px dashed gray;margin: 0 0.4em 0.5em 0.4em;box-sizing: border-box;padding-bottom: 0.4em;background-color: white;}#sk-container-id-5 div.sk-label label {font-family: monospace;font-weight: bold;display: inline-block;line-height: 1.2em;}#sk-container-id-5 div.sk-label-container {text-align: center;}#sk-container-id-5 div.sk-container {/* jupyter's `normalize.less` sets `[hidden] { display: none; }` but bootstrap.min.css set `[hidden] { display: none !important; }` so we also need the `!important` here to be able to override the default hidden behavior on the sphinx rendered scikit-learn.org. See: https://github.com/scikit-learn/scikit-learn/issues/21755 */display: inline-block !important;position: relative;}#sk-container-id-5 div.sk-text-repr-fallback {display: none;}</style><div id=\"sk-container-id-5\" class=\"sk-top-container\"><div class=\"sk-text-repr-fallback\"><pre>Pipeline(steps=[(&#x27;preprocessor&#x27;,\n",
              "                 ColumnTransformer(transformers=[(&#x27;num&#x27;,\n",
              "                                                  Pipeline(steps=[(&#x27;scaler&#x27;,\n",
              "                                                                   MinMaxScaler()),\n",
              "                                                                  (&#x27;poly&#x27;,\n",
              "                                                                   PolynomialFeatures(degree=5,\n",
              "                                                                                      include_bias=False))]),\n",
              "                                                  [&#x27;feature_2&#x27;, &#x27;feature_3&#x27;,\n",
              "                                                   &#x27;feature_4&#x27;,\n",
              "                                                   &#x27;feature_5&#x27;])])),\n",
              "                (&#x27;classifier&#x27;, LinearRegression())])</pre><b>In a Jupyter environment, please rerun this cell to show the HTML representation or trust the notebook. <br />On GitHub, the HTML representation is unable to render, please try loading this page with nbviewer.org.</b></div><div class=\"sk-container\" hidden><div class=\"sk-item sk-dashed-wrapped\"><div class=\"sk-label-container\"><div class=\"sk-label sk-toggleable\"><input class=\"sk-toggleable__control sk-hidden--visually\" id=\"sk-estimator-id-32\" type=\"checkbox\" ><label for=\"sk-estimator-id-32\" class=\"sk-toggleable__label sk-toggleable__label-arrow\">Pipeline</label><div class=\"sk-toggleable__content\"><pre>Pipeline(steps=[(&#x27;preprocessor&#x27;,\n",
              "                 ColumnTransformer(transformers=[(&#x27;num&#x27;,\n",
              "                                                  Pipeline(steps=[(&#x27;scaler&#x27;,\n",
              "                                                                   MinMaxScaler()),\n",
              "                                                                  (&#x27;poly&#x27;,\n",
              "                                                                   PolynomialFeatures(degree=5,\n",
              "                                                                                      include_bias=False))]),\n",
              "                                                  [&#x27;feature_2&#x27;, &#x27;feature_3&#x27;,\n",
              "                                                   &#x27;feature_4&#x27;,\n",
              "                                                   &#x27;feature_5&#x27;])])),\n",
              "                (&#x27;classifier&#x27;, LinearRegression())])</pre></div></div></div><div class=\"sk-serial\"><div class=\"sk-item sk-dashed-wrapped\"><div class=\"sk-label-container\"><div class=\"sk-label sk-toggleable\"><input class=\"sk-toggleable__control sk-hidden--visually\" id=\"sk-estimator-id-33\" type=\"checkbox\" ><label for=\"sk-estimator-id-33\" class=\"sk-toggleable__label sk-toggleable__label-arrow\">preprocessor: ColumnTransformer</label><div class=\"sk-toggleable__content\"><pre>ColumnTransformer(transformers=[(&#x27;num&#x27;,\n",
              "                                 Pipeline(steps=[(&#x27;scaler&#x27;, MinMaxScaler()),\n",
              "                                                 (&#x27;poly&#x27;,\n",
              "                                                  PolynomialFeatures(degree=5,\n",
              "                                                                     include_bias=False))]),\n",
              "                                 [&#x27;feature_2&#x27;, &#x27;feature_3&#x27;, &#x27;feature_4&#x27;,\n",
              "                                  &#x27;feature_5&#x27;])])</pre></div></div></div><div class=\"sk-parallel\"><div class=\"sk-parallel-item\"><div class=\"sk-item\"><div class=\"sk-label-container\"><div class=\"sk-label sk-toggleable\"><input class=\"sk-toggleable__control sk-hidden--visually\" id=\"sk-estimator-id-34\" type=\"checkbox\" ><label for=\"sk-estimator-id-34\" class=\"sk-toggleable__label sk-toggleable__label-arrow\">num</label><div class=\"sk-toggleable__content\"><pre>[&#x27;feature_2&#x27;, &#x27;feature_3&#x27;, &#x27;feature_4&#x27;, &#x27;feature_5&#x27;]</pre></div></div></div><div class=\"sk-serial\"><div class=\"sk-item\"><div class=\"sk-serial\"><div class=\"sk-item\"><div class=\"sk-estimator sk-toggleable\"><input class=\"sk-toggleable__control sk-hidden--visually\" id=\"sk-estimator-id-35\" type=\"checkbox\" ><label for=\"sk-estimator-id-35\" class=\"sk-toggleable__label sk-toggleable__label-arrow\">MinMaxScaler</label><div class=\"sk-toggleable__content\"><pre>MinMaxScaler()</pre></div></div></div><div class=\"sk-item\"><div class=\"sk-estimator sk-toggleable\"><input class=\"sk-toggleable__control sk-hidden--visually\" id=\"sk-estimator-id-36\" type=\"checkbox\" ><label for=\"sk-estimator-id-36\" class=\"sk-toggleable__label sk-toggleable__label-arrow\">PolynomialFeatures</label><div class=\"sk-toggleable__content\"><pre>PolynomialFeatures(degree=5, include_bias=False)</pre></div></div></div></div></div></div></div></div></div></div><div class=\"sk-item\"><div class=\"sk-estimator sk-toggleable\"><input class=\"sk-toggleable__control sk-hidden--visually\" id=\"sk-estimator-id-37\" type=\"checkbox\" ><label for=\"sk-estimator-id-37\" class=\"sk-toggleable__label sk-toggleable__label-arrow\">LinearRegression</label><div class=\"sk-toggleable__content\"><pre>LinearRegression()</pre></div></div></div></div></div></div></div>"
            ]
          },
          "metadata": {},
          "execution_count": 77
        }
      ]
    },
    {
      "cell_type": "code",
      "source": [
        "def train_poly_reg_and_plot(X_train, X_val, y_train, y_val):\n",
        "\n",
        "  y_train_pred = processor_5_pipeline.predict(X_train)\n",
        "  y_val_pred = processor_5_pipeline.predict(X_val)\n",
        "\n",
        "  rmse_poly_train = mean_squared_error(y_train, y_train_pred, squared=False)\n",
        "\n",
        "  rmse_poly_val = mean_squared_error(y_val, y_val_pred, squared=False)\n",
        "\n",
        "  print(f\"Train RMSE for Polynomial Regression (degree 5): {np.sqrt(rmse_poly_train):.3f}\")\n",
        "  print(f\"Test RMSE for Polynomial Regression (degree 5): {np.sqrt(rmse_poly_val):.3f}\")\n",
        "  return y_train_pred"
      ],
      "metadata": {
        "id": "GOfLE_T74tsV"
      },
      "execution_count": 99,
      "outputs": []
    },
    {
      "cell_type": "code",
      "source": [
        "a = train_poly_reg_and_plot(train_inputs, val_inputs, train_targets, val_targets)"
      ],
      "metadata": {
        "colab": {
          "base_uri": "https://localhost:8080/"
        },
        "id": "Nr0uqDBU4zG8",
        "outputId": "b38b6653-cf76-4d94-f735-e4654156f2e6"
      },
      "execution_count": 100,
      "outputs": [
        {
          "output_type": "stream",
          "name": "stdout",
          "text": [
            "Train RMSE for Polynomial Regression (degree 5): 0.000\n",
            "Test RMSE for Polynomial Regression (degree 5): 9.497\n"
          ]
        }
      ]
    },
    {
      "cell_type": "markdown",
      "source": [
        "###Висновок 4###\n",
        "Спостерігаємо високий рівень overfitting.\n",
        "Модель погана, погано генералізує як бачимо з результату на валідаційній вибірці"
      ],
      "metadata": {
        "id": "Mfe76xGy9sHN"
      }
    },
    {
      "cell_type": "markdown",
      "metadata": {
        "id": "JNUt-Q6UHkn7"
      },
      "source": [
        "###Завдання 5###\n",
        ". Натренуйте моделі Lasso(), Ridge(), ElasaticNet() на цих даних (з поліном ознаками до степені 20 включно), порівняйте якість з тою, яка була отримана з лог регресією. Яка модель найкраще генералізує і чому на ваш погляд (можливо треба буде для відповіді зробити додатковий аналіз ознак)?"
      ]
    },
    {
      "cell_type": "code",
      "execution_count": 107,
      "metadata": {
        "id": "y93ItPYdOnpE"
      },
      "outputs": [],
      "source": [
        "from sklearn.linear_model import Ridge, Lasso, ElasticNet\n",
        "models = [\n",
        "    LinearRegression(),\n",
        "    Ridge(),\n",
        "    Ridge(alpha=2),\n",
        "    Lasso(),\n",
        "    ElasticNet(),\n",
        "    ElasticNet(alpha=0.5)\n",
        "]"
      ]
    },
    {
      "cell_type": "code",
      "source": [
        "def evaluate_model(model, X_train, y_train, X_val, y_val):\n",
        "    y_train_pred = model.predict(X_train)\n",
        "    y_val_pred = model.predict(X_val)\n",
        "\n",
        "    train_metrics = mean_squared_error(y_train, y_train_pred, squared=False).round(6)\n",
        "    val_metrics = mean_squared_error(y_val, y_val_pred, squared=False).round(6)\n",
        "\n",
        "    return dict(train=train_metrics, val=val_metrics)"
      ],
      "metadata": {
        "id": "LTF12WopACaA"
      },
      "execution_count": 108,
      "outputs": []
    },
    {
      "cell_type": "code",
      "source": [
        "scaler = MinMaxScaler()\n",
        "\n",
        "scaler.fit(train_inputs)\n",
        "X_train_scaled = scaler.transform(train_inputs)\n",
        "X_val_scaled = scaler.transform(val_inputs)"
      ],
      "metadata": {
        "id": "rNpJ7NJ8CJrY"
      },
      "execution_count": 109,
      "outputs": []
    },
    {
      "cell_type": "code",
      "source": [
        "poly_features = PolynomialFeatures(degree=20)\n",
        "X_train_poly = poly_features.fit_transform(X_train_scaled)\n",
        "X_val_poly = poly_features.transform(X_val_scaled)"
      ],
      "metadata": {
        "id": "P-OiuVTZAoS5"
      },
      "execution_count": 110,
      "outputs": []
    },
    {
      "cell_type": "code",
      "source": [
        "import warnings\n",
        "\n",
        "warnings.filterwarnings(\"ignore\")\n",
        "\n",
        "for model in models:\n",
        "    model.fit(X_train_poly, train_targets)\n",
        "    eval_results  = evaluate_model(model, X_train_poly, train_targets, X_val_poly, val_targets)\n",
        "    print(f'{str(model)}: {eval_results}\\n')"
      ],
      "metadata": {
        "colab": {
          "base_uri": "https://localhost:8080/"
        },
        "id": "KNexT5oVAisk",
        "outputId": "a3e4c616-4a4d-4a25-9dd4-0c434b345237"
      },
      "execution_count": 113,
      "outputs": [
        {
          "output_type": "stream",
          "name": "stdout",
          "text": [
            "LinearRegression(): {'train': 0.0, 'val': 88.922316}\n",
            "\n",
            "Ridge(): {'train': 6.716122, 'val': 8.398202}\n",
            "\n",
            "Ridge(alpha=2): {'train': 8.831924, 'val': 10.50436}\n",
            "\n",
            "Lasso(): {'train': 5.098171, 'val': 5.671931}\n",
            "\n",
            "ElasticNet(): {'train': 32.029775, 'val': 33.313501}\n",
            "\n",
            "ElasticNet(alpha=0.5): {'train': 26.309924, 'val': 26.460511}\n",
            "\n"
          ]
        }
      ]
    },
    {
      "cell_type": "code",
      "source": [
        "import warnings\n",
        "\n",
        "warnings.filterwarnings(\"ignore\")\n",
        "\n",
        "for model in models:\n",
        "    model.fit(X_train_poly, train_targets)\n",
        "    y_train_pred = model.predict(X_train_poly)\n",
        "    y_val_pred = model.predict(X_val_poly)\n",
        "    r2_train = r2_score(train_targets, y_train_pred).round(6)\n",
        "    r2_val = r2_score(val_targets, y_val_pred).round(6)\n",
        "    print(f\"model_name = {model}, r2_train = {r2_train}, r2_val {r2_val}\\n\")\n",
        "\n"
      ],
      "metadata": {
        "colab": {
          "base_uri": "https://localhost:8080/"
        },
        "id": "EFdTFnZyEece",
        "outputId": "0553765b-739d-4153-9745-de2a689b6130"
      },
      "execution_count": 117,
      "outputs": [
        {
          "output_type": "stream",
          "name": "stdout",
          "text": [
            "model_name = LinearRegression(), r2_train = 1.0, r2_val -2.38918\n",
            "\n",
            "model_name = Ridge(), r2_train = 0.976843, r2_val 0.969769\n",
            "\n",
            "model_name = Ridge(alpha=2), r2_train = 0.959954, r2_val 0.952705\n",
            "\n",
            "model_name = Lasso(), r2_train = 0.986656, r2_val 0.986211\n",
            "\n",
            "model_name = ElasticNet(), r2_train = 0.473308, r2_val 0.524321\n",
            "\n",
            "model_name = ElasticNet(alpha=0.5), r2_train = 0.644624, r2_val 0.699898\n",
            "\n"
          ]
        }
      ]
    },
    {
      "cell_type": "markdown",
      "source": [
        "###Висновок 5###\n",
        "\n",
        "Найкращий результат RMSE отриманий в моделі LASSO, що порівняно з лінійною регресією найбільш наближений до моделі яка ідеально оцінює тренувальні дані.\n",
        "RMSE у тренувального 5.2, у валідаційного 5.6, що свідчить про незначний overfitting моделі.\n",
        "\n",
        "Для оцінки генералізації обрана метрика r2_score:\n",
        "1 означає, що модель повністю пояснює варіацію залежної змінної.\n",
        "0 означає, що модель не пояснює варіацію залежної змінної краще, ніж середнє значення цієї змінної.\n",
        "\n",
        "І найближчим до 1 виявлась також модель LASSO."
      ],
      "metadata": {
        "id": "cmLqDsrwF5vb"
      }
    }
  ],
  "metadata": {
    "colab": {
      "provenance": [],
      "toc_visible": true,
      "include_colab_link": true
    },
    "kernelspec": {
      "display_name": "Python 3",
      "name": "python3"
    },
    "language_info": {
      "name": "python"
    }
  },
  "nbformat": 4,
  "nbformat_minor": 0
}